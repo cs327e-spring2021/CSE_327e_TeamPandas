{
 "cells": [
  {
   "cell_type": "markdown",
   "id": "simplified-superior",
   "metadata": {},
   "source": [
    "### Step 1: Run code samples in sequence to populate Firestore database"
   ]
  },
  {
   "cell_type": "code",
   "execution_count": 1,
   "id": "vocal-lambda",
   "metadata": {},
   "outputs": [],
   "source": [
    "import pandas as pd\n",
    "from google.cloud import firestore\n",
    "db = firestore.Client()\n",
    "import uuid"
   ]
  },
  {
   "cell_type": "code",
   "execution_count": 2,
   "id": "nominated-procurement",
   "metadata": {},
   "outputs": [],
   "source": [
    "batch = db.batch()\n",
    "\n",
    "df = pd.read_csv('/home/jupyter/spanner_shopify/apps.csv', sep=',', header=0, lineterminator='\\n')\n",
    "apps_rows = df.values.tolist()\n",
    "\n",
    "counter = 1\n",
    "\n",
    "for apps_row in apps_rows:\n",
    "\n",
    "    app_record = {}\n",
    "    app_record['id'] = apps_row[0]\n",
    "    app_record['title'] = apps_row[1]\n",
    "    app_record['developer'] = apps_row[2]\n",
    "    app_record['rating'] = apps_row[6]\n",
    "    app_record['review_count'] = apps_row[7]\n",
    "\n",
    "\n",
    "    app_ref = db.collection('apps').document(apps_row[0])\n",
    "\n",
    "    batch.set(app_ref, app_record)\n",
    "    counter +=1 \n",
    "    if counter == 399:\n",
    "        batch.commit()\n",
    "        counter = 1"
   ]
  },
  {
   "cell_type": "code",
   "execution_count": 21,
   "id": "blond-excitement",
   "metadata": {},
   "outputs": [],
   "source": [
    "batch = db.batch()\n",
    "\n",
    "df = pd.read_csv('/home/jupyter/spanner_shopify/apps.csv', sep=',', header=0, lineterminator='\\n')\n",
    "apps_rows = df.values.tolist()\n",
    "\n",
    "df = pd.read_csv('/home/jupyter/spanner_shopify/apps_categories.csv', sep=',', header=0, lineterminator='\\n')\n",
    "apps_category_rows = df.values.tolist()\n",
    "counter =1\n",
    "for apps_row in apps_rows:\n",
    "    \n",
    "    app_record = {}\n",
    "    app_record['id'] = apps_row[0]\n",
    "    app_record['title'] = apps_row[1]\n",
    "    app_record['developer'] = apps_row[2]\n",
    "    app_record['rating'] = apps_row[6]\n",
    "    app_record['review_count'] = apps_row[7]\n",
    "\n",
    "    \n",
    "    app_ref = db.collection('apps').document(apps_row[0])\n",
    "    \n",
    "    batch.set(app_ref, app_record)\n",
    "    \n",
    "    for apps_category_row in apps_category_rows:\n",
    "        if apps_row[0] == apps_category_row[0]:\n",
    "            \n",
    "            category_record = {}\n",
    "            category_record['id'] = apps_category_row[0]\n",
    "            category_record['title'] = apps_category_row[1]\n",
    "            \n",
    "            category_ref = app_ref.collection('category').document(apps_category_row[0])\n",
    "        \n",
    "            batch.set(category_ref, category_record)\n",
    "    \n",
    "    batch.commit()\n",
    "    "
   ]
  },
  {
   "cell_type": "code",
   "execution_count": 4,
   "id": "intended-prevention",
   "metadata": {},
   "outputs": [],
   "source": [
    "batch = db.batch()\n",
    "\n",
    "df = pd.read_csv('/home/jupyter/spanner_shopify/key_benefits.csv', sep=',', header=0, lineterminator='\\n')\n",
    "key_benefits_rows = df.values.tolist()\n",
    "\n",
    "df = pd.read_csv('/home/jupyter/spanner_shopify/apps.csv', sep=',', header=0, lineterminator='\\n')\n",
    "apps_rows = df.values.tolist()\n",
    "counter =1\n",
    "for key_benefits_row in key_benefits_rows:\n",
    "    \n",
    "    key_benefits_record = {}\n",
    "    key_benefits_record['id'] = key_benefits_row[0]\n",
    "    key_benefits_record['title'] = key_benefits_row[1]\n",
    "    key_benefits_record['review_count'] = key_benefits_row[2]\n",
    "\n",
    "    \n",
    "    key_benefits_ref = db.collection('key_benefits').document(key_benefits_row[0])\n",
    "    \n",
    "    batch.set(key_benefits_ref, key_benefits_record)\n",
    "    unique_id = str(uuid.uuid4())\n",
    "    for apps_row in apps_rows:\n",
    "        if key_benefits_row[0] == apps_row[0]:\n",
    "            apps_record = {}\n",
    "            apps_record['id'] = apps_row[0]\n",
    "            apps_record['title'] = apps_row[1]\n",
    "            apps_record['developer'] = apps_row[2]\n",
    "            apps_record['rating'] = apps_row[6]\n",
    "            apps_record['review_count'] = apps_row[7]\n",
    "           \n",
    "            \n",
    "            apps_ref = key_benefits_ref.collection('apps').document(apps_row[0])\n",
    "        \n",
    "            batch.set(apps_ref, apps_record)\n",
    "    \n",
    "    batch.commit()"
   ]
  },
  {
   "cell_type": "code",
   "execution_count": 27,
   "id": "liberal-honduras",
   "metadata": {},
   "outputs": [],
   "source": [
    "batch = db.batch()\n",
    "\n",
    "df = pd.read_csv('/home/jupyter/spanner_shopify/pricing_plan_features.csv', sep=',', header=0, lineterminator='\\n')\n",
    "pricing_plan_features_rows = df.values.tolist()\n",
    "\n",
    "df = pd.read_csv('/home/jupyter/spanner_shopify/apps.csv', sep=',', header=0, lineterminator='\\n')\n",
    "apps_rows = df.values.tolist()\n",
    "counter =1\n",
    "for pricing_plan_features_row in  pricing_plan_features_rows:\n",
    "    \n",
    "    pricing_plan_features_record = {}\n",
    "    pricing_plan_features_record['app_id'] = pricing_plan_features_row[0]\n",
    "    pricing_plan_features_record['pricing_plan_id'] = pricing_plan_features_row[1]\n",
    "    pricing_plan_features_record['feature'] = pricing_plan_features_row[2]\n",
    "\n",
    "    \n",
    "    pricing_plan_features_ref = db.collection('pricing_plan_features').document(pricing_plan_features_row[0])\n",
    "    \n",
    "    batch.set( pricing_plan_features_ref, pricing_plan_features_record)\n",
    "    \n",
    "    for apps_row in apps_rows:\n",
    "        if pricing_plan_features_row[0] == apps_row[0]:\n",
    "            \n",
    "            apps_record = {}\n",
    "            apps_record['id'] = apps_row[0]\n",
    "            apps_record['title'] = apps_row[1]\n",
    "            apps_record['developer'] = apps_row[2]\n",
    "            apps_record['rating'] = apps_row[6]\n",
    "            apps_record['review_count'] = apps_row[7]\n",
    "            apps_ref = pricing_plan_features_ref.collection('apps').document(apps_row[0])\n",
    "        \n",
    "            batch.set(apps_ref, apps_record)\n",
    "    \n",
    "    batch.commit()"
   ]
  },
  {
   "cell_type": "markdown",
   "id": "mechanical-instruction",
   "metadata": {},
   "source": [
    "# Get a document count for each collection and subcollection you created."
   ]
  },
  {
   "cell_type": "code",
   "execution_count": 14,
   "id": "direct-tongue",
   "metadata": {},
   "outputs": [
    {
     "name": "stdout",
     "output_type": "stream",
     "text": [
      "# of documents in collection: 3547\n"
     ]
    }
   ],
   "source": [
    "documents = list(db.collection('apps').get())\n",
    "print(\"# of documents in collection: {}\".format(len(documents)))"
   ]
  },
  {
   "cell_type": "code",
   "execution_count": 24,
   "id": "blind-physiology",
   "metadata": {},
   "outputs": [
    {
     "name": "stdout",
     "output_type": "stream",
     "text": [
      "# of documents in subcollection: 2\n"
     ]
    }
   ],
   "source": [
    "documents = list(app_ref.collection('category').get())\n",
    "print(\"# of documents in subcollection: {}\".format(len(documents)))"
   ]
  },
  {
   "cell_type": "code",
   "execution_count": 30,
   "id": "prepared-colorado",
   "metadata": {},
   "outputs": [
    {
     "name": "stdout",
     "output_type": "stream",
     "text": [
      "# of documents in collection: 3184\n"
     ]
    }
   ],
   "source": [
    "documents = list(db.collection('key_benefits').get())\n",
    "print(\"# of documents in collection: {}\".format(len(documents)))"
   ]
  },
  {
   "cell_type": "code",
   "execution_count": 25,
   "id": "bigger-wonder",
   "metadata": {},
   "outputs": [
    {
     "name": "stdout",
     "output_type": "stream",
     "text": [
      "# of documents in subcollection: 1\n"
     ]
    }
   ],
   "source": [
    "documents = list(key_benefits_ref.collection('apps').get())\n",
    "print(\"# of documents in subcollection: {}\".format(len(documents)))"
   ]
  },
  {
   "cell_type": "code",
   "execution_count": 29,
   "id": "lightweight-administrator",
   "metadata": {},
   "outputs": [
    {
     "name": "stdout",
     "output_type": "stream",
     "text": [
      "# of documents in collection: 4382\n"
     ]
    }
   ],
   "source": [
    "documents = list(db.collection('pricing_plan_features').get())\n",
    "print(\"# of documents in collection: {}\".format(len(documents)))"
   ]
  },
  {
   "cell_type": "code",
   "execution_count": 28,
   "id": "identical-literature",
   "metadata": {},
   "outputs": [
    {
     "name": "stdout",
     "output_type": "stream",
     "text": [
      "# of documents in subcollection: 0\n"
     ]
    }
   ],
   "source": [
    "documents = list(pricing_plan_features_ref.collection('apps').get())\n",
    "print(\"# of documents in subcollection: {}\".format(len(documents)))"
   ]
  },
  {
   "cell_type": "markdown",
   "id": "brown-pastor",
   "metadata": {},
   "source": [
    "### List the 10 apps with the highest number of reviews (based on apps.review_count).\n",
    "### Return the id, title, developer, rating and reviews_count of those apps.\n",
    "### Order the results by reviews_count in descending order."
   ]
  },
  {
   "cell_type": "code",
   "execution_count": 13,
   "id": "senior-excellence",
   "metadata": {},
   "outputs": [
    {
     "name": "stdout",
     "output_type": "stream",
     "text": [
      "d9f142ee-b141-4dc4-9353-173db61d2eb0 => {'developer': 'Privy ‑ Exit Pop Ups & Email', 'title': 'https://apps.shopify.com/privy', 'review_count': 23078, 'id': 'd9f142ee-b141-4dc4-9353-173db61d2eb0', 'rating': 4.7}\n",
      "78ea0810-c008-4a4e-a82f-de0c790e3286 => {'title': 'https://apps.shopify.com/free-shipping-bar', 'review_count': 8737, 'id': '78ea0810-c008-4a4e-a82f-de0c790e3286', 'developer': 'Free Shipping Bar', 'rating': 4.9}\n",
      "b88488b0-9912-44d3-b736-224c36f09d95 => {'rating': 4.8, 'id': 'b88488b0-9912-44d3-b736-224c36f09d95', 'title': 'https://apps.shopify.com/shoppop', 'developer': 'Sales Pop ‑ Popup Notification', 'review_count': 6905}\n",
      "e528a60e-94f8-4e92-80e2-5bc6013b8283 => {'review_count': 5986, 'id': 'e528a60e-94f8-4e92-80e2-5bc6013b8283', 'developer': 'BEST Currency Converter', 'title': 'https://apps.shopify.com/doubly-currency-converter', 'rating': 4.8}\n",
      "be2640c4-01b5-4d52-9f68-cae8c0734d0d => {'review_count': 5596, 'developer': 'Recart FB Messenger Marketing', 'title': 'https://apps.shopify.com/recart', 'rating': 4.8, 'id': 'be2640c4-01b5-4d52-9f68-cae8c0734d0d'}\n",
      "70bff9e0-4316-4cc6-84ce-92fcd1bc6925 => {'developer': 'EU Cookie Bar ‑ Cookie GDPR', 'title': 'https://apps.shopify.com/eu-cookie-bar', 'review_count': 5259, 'id': '70bff9e0-4316-4cc6-84ce-92fcd1bc6925', 'rating': 4.7}\n",
      "171816e2-27d4-4552-a65e-ab44a312fe04 => {'id': '171816e2-27d4-4552-a65e-ab44a312fe04', 'rating': 4.8, 'developer': 'Sales Pop Master ‑ Countdown', 'title': 'https://apps.shopify.com/sales-pop-master', 'review_count': 4931}\n",
      "9025eff0-d714-4df1-930f-43f5582979ad => {'developer': 'Ultimate Sales Boost', 'rating': 4.8, 'review_count': 4847, 'title': 'https://apps.shopify.com/ultimate-sales-boost', 'id': '9025eff0-d714-4df1-930f-43f5582979ad'}\n",
      "404183ac-6d52-4960-85d2-8350f37c2f0b => {'review_count': 4245, 'title': 'https://apps.shopify.com/ads', 'id': '404183ac-6d52-4960-85d2-8350f37c2f0b', 'rating': 4.9, 'developer': 'Ads by Varinode'}\n",
      "0380c5ed-7b91-4d4b-9a4e-f6a1c50269dd => {'id': '0380c5ed-7b91-4d4b-9a4e-f6a1c50269dd', 'title': 'https://apps.shopify.com/quick-announcement-bar-always-keep-your-customers-informed', 'rating': 4.9, 'review_count': 4237, 'developer': 'Quick Announcement Bar'}\n"
     ]
    }
   ],
   "source": [
    "app_ref = db.collection(u'apps')\n",
    "query = app_ref.order_by(u'review_count', direction=firestore.Query.DESCENDING).limit(10)\n",
    "results = query.stream()\n",
    "for doc in results:\n",
    "    print(f'{doc.id} => {doc.to_dict()}')\n",
    "    "
   ]
  }
 ],
 "metadata": {
  "environment": {
   "name": "common-cpu.mnightly-2021-01-20-debian-10-test",
   "type": "gcloud",
   "uri": "gcr.io/deeplearning-platform-release/base-cpu:mnightly-2021-01-20-debian-10-test"
  },
  "kernelspec": {
   "display_name": "Python 3",
   "language": "python",
   "name": "python3"
  },
  "language_info": {
   "codemirror_mode": {
    "name": "ipython",
    "version": 3
   },
   "file_extension": ".py",
   "mimetype": "text/x-python",
   "name": "python",
   "nbconvert_exporter": "python",
   "pygments_lexer": "ipython3",
   "version": "3.7.9"
  }
 },
 "nbformat": 4,
 "nbformat_minor": 5
}
