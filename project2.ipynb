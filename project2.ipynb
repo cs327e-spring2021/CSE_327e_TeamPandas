{
 "cells": [
  {
   "cell_type": "code",
   "execution_count": 54,
   "id": "trying-reviewer",
   "metadata": {},
   "outputs": [
    {
     "name": "stdout",
     "output_type": "stream",
     "text": [
      "env: INSTANCE=postg\n"
     ]
    }
   ],
   "source": [
    "%env INSTANCE=postg"
   ]
  },
  {
   "cell_type": "code",
   "execution_count": 55,
   "id": "geological-sunglasses",
   "metadata": {},
   "outputs": [
    {
     "name": "stdout",
     "output_type": "stream",
     "text": [
      "psql:/home/jupyter/pagila/pagila-schema.sql:8: NOTICE:  drop cascades to 47 other objects\n",
      "DETAIL:  drop cascades to type pagila.mpaa_rating\n",
      "drop cascades to type pagila.year\n",
      "drop cascades to function pagila._group_concat(text,text)\n",
      "drop cascades to function pagila.film_in_stock(integer,integer)\n",
      "drop cascades to function pagila.film_not_in_stock(integer,integer)\n",
      "drop cascades to function pagila.get_customer_balance(integer,timestamp with time zone)\n",
      "drop cascades to function pagila.inventory_held_by_customer(integer)\n",
      "drop cascades to function pagila.inventory_in_stock(integer)\n",
      "drop cascades to function pagila.last_day(timestamp with time zone)\n",
      "drop cascades to function pagila.last_updated()\n",
      "drop cascades to sequence pagila.customer_customer_id_seq\n",
      "drop cascades to table pagila.customer\n",
      "drop cascades to function pagila.rewards_report(integer,numeric)\n",
      "drop cascades to function pagila.group_concat(text)\n",
      "drop cascades to sequence pagila.actor_actor_id_seq\n",
      "drop cascades to table pagila.actor\n",
      "drop cascades to sequence pagila.category_category_id_seq\n",
      "drop cascades to table pagila.category\n",
      "drop cascades to sequence pagila.film_film_id_seq\n",
      "drop cascades to table pagila.film\n",
      "drop cascades to table pagila.film_actor\n",
      "drop cascades to table pagila.film_category\n",
      "drop cascades to view pagila.actor_info\n",
      "drop cascades to sequence pagila.address_address_id_seq\n",
      "drop cascades to table pagila.address\n",
      "drop cascades to sequence pagila.city_city_id_seq\n",
      "drop cascades to table pagila.city\n",
      "drop cascades to sequence pagila.country_country_id_seq\n",
      "drop cascades to table pagila.country\n",
      "drop cascades to view pagila.customer_list\n",
      "drop cascades to view pagila.film_list\n",
      "drop cascades to sequence pagila.inventory_inventory_id_seq\n",
      "drop cascades to table pagila.inventory\n",
      "drop cascades to sequence pagila.language_language_id_seq\n",
      "drop cascades to table pagila.language\n",
      "drop cascades to view pagila.nicer_but_slower_film_list\n",
      "drop cascades to sequence pagila.payment_payment_id_seq\n",
      "drop cascades to table pagila.payment\n",
      "drop cascades to sequence pagila.rental_rental_id_seq\n",
      "drop cascades to table pagila.rental\n",
      "drop cascades to view pagila.sales_by_film_category\n",
      "drop cascades to sequence pagila.staff_staff_id_seq\n",
      "drop cascades to table pagila.staff\n",
      "drop cascades to sequence pagila.store_store_id_seq\n",
      "drop cascades to table pagila.store\n",
      "drop cascades to view pagila.sales_by_store\n",
      "drop cascades to view pagila.staff_list\n",
      "DROP SCHEMA\n",
      "CREATE SCHEMA\n",
      "SET\n",
      "SET\n",
      "SET\n",
      "SET\n",
      "SET\n",
      "SET\n",
      "SET\n",
      "SET\n",
      "SET\n",
      "CREATE EXTENSION\n",
      "CREATE TYPE\n",
      "ALTER TYPE\n",
      "CREATE DOMAIN\n",
      "ALTER DOMAIN\n",
      "CREATE FUNCTION\n",
      "ALTER FUNCTION\n",
      "CREATE FUNCTION\n",
      "ALTER FUNCTION\n",
      "CREATE FUNCTION\n",
      "ALTER FUNCTION\n",
      "CREATE FUNCTION\n",
      "ALTER FUNCTION\n",
      "CREATE FUNCTION\n",
      "ALTER FUNCTION\n",
      "CREATE FUNCTION\n",
      "ALTER FUNCTION\n",
      "CREATE FUNCTION\n",
      "ALTER FUNCTION\n",
      "CREATE FUNCTION\n",
      "ALTER FUNCTION\n",
      "CREATE SEQUENCE\n",
      "ALTER TABLE\n",
      "SET\n",
      "SET\n",
      "CREATE TABLE\n",
      "ALTER TABLE\n",
      "CREATE FUNCTION\n",
      "ALTER FUNCTION\n",
      "CREATE AGGREGATE\n",
      "ALTER AGGREGATE\n",
      "CREATE SEQUENCE\n",
      "ALTER TABLE\n",
      "CREATE TABLE\n",
      "ALTER TABLE\n",
      "CREATE SEQUENCE\n",
      "ALTER TABLE\n",
      "CREATE TABLE\n",
      "ALTER TABLE\n",
      "CREATE SEQUENCE\n",
      "ALTER TABLE\n",
      "CREATE TABLE\n",
      "ALTER TABLE\n",
      "CREATE TABLE\n",
      "ALTER TABLE\n",
      "CREATE TABLE\n",
      "ALTER TABLE\n",
      "CREATE VIEW\n",
      "ALTER TABLE\n",
      "CREATE SEQUENCE\n",
      "ALTER TABLE\n",
      "CREATE TABLE\n",
      "ALTER TABLE\n",
      "CREATE SEQUENCE\n",
      "ALTER TABLE\n",
      "CREATE TABLE\n",
      "ALTER TABLE\n",
      "CREATE SEQUENCE\n",
      "ALTER TABLE\n",
      "CREATE TABLE\n",
      "ALTER TABLE\n",
      "CREATE VIEW\n",
      "ALTER TABLE\n",
      "CREATE VIEW\n",
      "ALTER TABLE\n",
      "CREATE SEQUENCE\n",
      "ALTER TABLE\n",
      "CREATE TABLE\n",
      "ALTER TABLE\n",
      "CREATE SEQUENCE\n",
      "ALTER TABLE\n",
      "CREATE TABLE\n",
      "ALTER TABLE\n",
      "CREATE VIEW\n",
      "ALTER TABLE\n",
      "CREATE SEQUENCE\n",
      "ALTER TABLE\n",
      "CREATE TABLE\n",
      "ALTER TABLE\n",
      "CREATE SEQUENCE\n",
      "ALTER TABLE\n",
      "CREATE TABLE\n",
      "ALTER TABLE\n",
      "CREATE VIEW\n",
      "ALTER TABLE\n",
      "CREATE SEQUENCE\n",
      "ALTER TABLE\n",
      "CREATE TABLE\n",
      "ALTER TABLE\n",
      "CREATE SEQUENCE\n",
      "ALTER TABLE\n",
      "CREATE TABLE\n",
      "ALTER TABLE\n",
      "CREATE VIEW\n",
      "ALTER TABLE\n",
      "CREATE VIEW\n",
      "ALTER TABLE\n",
      "ALTER TABLE\n",
      "ALTER TABLE\n",
      "ALTER TABLE\n",
      "ALTER TABLE\n",
      "ALTER TABLE\n",
      "ALTER TABLE\n",
      "ALTER TABLE\n",
      "ALTER TABLE\n",
      "ALTER TABLE\n",
      "ALTER TABLE\n",
      "ALTER TABLE\n",
      "ALTER TABLE\n",
      "ALTER TABLE\n",
      "CREATE INDEX\n",
      "CREATE INDEX\n",
      "CREATE INDEX\n",
      "CREATE INDEX\n",
      "CREATE INDEX\n",
      "CREATE INDEX\n",
      "CREATE INDEX\n",
      "CREATE INDEX\n",
      "CREATE INDEX\n",
      "CREATE INDEX\n",
      "CREATE INDEX\n",
      "CREATE INDEX\n",
      "CREATE INDEX\n",
      "CREATE INDEX\n",
      "CREATE INDEX\n",
      "CREATE INDEX\n",
      "CREATE INDEX\n",
      "CREATE TRIGGER\n",
      "CREATE TRIGGER\n",
      "CREATE TRIGGER\n",
      "CREATE TRIGGER\n",
      "CREATE TRIGGER\n",
      "CREATE TRIGGER\n",
      "CREATE TRIGGER\n",
      "CREATE TRIGGER\n",
      "CREATE TRIGGER\n",
      "CREATE TRIGGER\n",
      "CREATE TRIGGER\n",
      "CREATE TRIGGER\n",
      "CREATE TRIGGER\n",
      "CREATE TRIGGER\n",
      "CREATE TRIGGER\n",
      "ALTER TABLE\n",
      "ALTER TABLE\n",
      "ALTER TABLE\n",
      "ALTER TABLE\n",
      "ALTER TABLE\n",
      "ALTER TABLE\n",
      "ALTER TABLE\n",
      "ALTER TABLE\n",
      "ALTER TABLE\n",
      "ALTER TABLE\n",
      "ALTER TABLE\n",
      "ALTER TABLE\n",
      "ALTER TABLE\n",
      "ALTER TABLE\n",
      "ALTER TABLE\n",
      "ALTER TABLE\n",
      "ALTER TABLE\n",
      "ALTER TABLE\n"
     ]
    }
   ],
   "source": [
    "!psql -c \"\\i /home/jupyter/pagila/pagila-schema.sql\""
   ]
  },
  {
   "cell_type": "code",
   "execution_count": 56,
   "id": "wrong-nerve",
   "metadata": {},
   "outputs": [
    {
     "name": "stdout",
     "output_type": "stream",
     "text": [
      " setval \n",
      "--------\n",
      "    200\n",
      "(1 row)\n",
      "\n",
      " setval \n",
      "--------\n",
      "    605\n",
      "(1 row)\n",
      "\n",
      " setval \n",
      "--------\n",
      "     16\n",
      "(1 row)\n",
      "\n",
      " setval \n",
      "--------\n",
      "    600\n",
      "(1 row)\n",
      "\n",
      " setval \n",
      "--------\n",
      "    109\n",
      "(1 row)\n",
      "\n",
      " setval \n",
      "--------\n",
      "    599\n",
      "(1 row)\n",
      "\n",
      " setval \n",
      "--------\n",
      "   1000\n",
      "(1 row)\n",
      "\n",
      " setval \n",
      "--------\n",
      "   4581\n",
      "(1 row)\n",
      "\n",
      " setval \n",
      "--------\n",
      "      6\n",
      "(1 row)\n",
      "\n",
      " setval \n",
      "--------\n",
      "  32098\n",
      "(1 row)\n",
      "\n",
      " setval \n",
      "--------\n",
      "  16049\n",
      "(1 row)\n",
      "\n",
      " setval \n",
      "--------\n",
      "      2\n",
      "(1 row)\n",
      "\n",
      " setval \n",
      "--------\n",
      "      2\n",
      "(1 row)\n",
      "\n"
     ]
    }
   ],
   "source": [
    "!psql -c \"\\i /home/jupyter/pagila/pagila-insert-data.sql\" --quiet "
   ]
  },
  {
   "cell_type": "markdown",
   "id": "similar-weekly",
   "metadata": {},
   "source": [
    "### Open all tables"
   ]
  },
  {
   "cell_type": "code",
   "execution_count": 62,
   "id": "medical-snake",
   "metadata": {},
   "outputs": [
    {
     "name": "stdout",
     "output_type": "stream",
     "text": [
      "             List of relations\n",
      " Schema |     Name      | Type  |  Owner   \n",
      "--------+---------------+-------+----------\n",
      " pagila | actor         | table | postgres\n",
      " pagila | address       | table | postgres\n",
      " pagila | category      | table | postgres\n",
      " pagila | city          | table | postgres\n",
      " pagila | country       | table | postgres\n",
      " pagila | customer      | table | postgres\n",
      " pagila | film          | table | postgres\n",
      " pagila | film_actor    | table | postgres\n",
      " pagila | film_category | table | postgres\n",
      " pagila | inventory     | table | postgres\n",
      " pagila | language      | table | postgres\n",
      " pagila | payment       | table | postgres\n",
      " pagila | rental        | table | postgres\n",
      " pagila | staff         | table | postgres\n",
      " pagila | store         | table | postgres\n",
      "(15 rows)\n",
      "\n"
     ]
    }
   ],
   "source": [
    "!psql -c \"\\dt pagila.*\""
   ]
  },
  {
   "cell_type": "code",
   "execution_count": 19,
   "id": "elementary-width",
   "metadata": {},
   "outputs": [
    {
     "name": "stdout",
     "output_type": "stream",
     "text": [
      "                                              Table \"pagila.actor\"\n",
      "   Column    |           Type           | Collation | Nullable |                    Default                     \n",
      "-------------+--------------------------+-----------+----------+------------------------------------------------\n",
      " actor_id    | integer                  |           | not null | nextval('pagila.actor_actor_id_seq'::regclass)\n",
      " first_name  | text                     |           | not null | \n",
      " last_name   | text                     |           | not null | \n",
      " last_update | timestamp with time zone |           | not null | now()\n",
      "Indexes:\n",
      "    \"actor_pkey\" PRIMARY KEY, btree (actor_id)\n",
      "    \"idx_actor_last_name\" btree (last_name)\n",
      "Referenced by:\n",
      "    TABLE \"pagila.film_actor\" CONSTRAINT \"film_actor_actor_id_fkey\" FOREIGN KEY (actor_id) REFERENCES pagila.actor(actor_id) ON UPDATE CASCADE ON DELETE RESTRICT\n",
      "Triggers:\n",
      "    last_updated BEFORE UPDATE ON pagila.actor FOR EACH ROW EXECUTE PROCEDURE pagila.last_updated()\n",
      "\n"
     ]
    }
   ],
   "source": [
    "!psql -c \"\\d pagila.actor\""
   ]
  },
  {
   "cell_type": "code",
   "execution_count": 21,
   "id": "excess-stock",
   "metadata": {},
   "outputs": [
    {
     "name": "stdout",
     "output_type": "stream",
     "text": [
      "                                               Table \"pagila.address\"\n",
      "   Column    |           Type           | Collation | Nullable |                      Default                       \n",
      "-------------+--------------------------+-----------+----------+----------------------------------------------------\n",
      " address_id  | integer                  |           | not null | nextval('pagila.address_address_id_seq'::regclass)\n",
      " address     | text                     |           | not null | \n",
      " address2    | text                     |           |          | \n",
      " district    | text                     |           | not null | \n",
      " city_id     | smallint                 |           | not null | \n",
      " postal_code | text                     |           |          | \n",
      " phone       | text                     |           | not null | \n",
      " last_update | timestamp with time zone |           | not null | now()\n",
      "Indexes:\n",
      "    \"address_pkey\" PRIMARY KEY, btree (address_id)\n",
      "    \"idx_fk_city_id\" btree (city_id)\n",
      "Foreign-key constraints:\n",
      "    \"address_city_id_fkey\" FOREIGN KEY (city_id) REFERENCES pagila.city(city_id) ON UPDATE CASCADE ON DELETE RESTRICT\n",
      "Referenced by:\n",
      "    TABLE \"pagila.customer\" CONSTRAINT \"customer_address_id_fkey\" FOREIGN KEY (address_id) REFERENCES pagila.address(address_id) ON UPDATE CASCADE ON DELETE RESTRICT\n",
      "    TABLE \"pagila.staff\" CONSTRAINT \"staff_address_id_fkey\" FOREIGN KEY (address_id) REFERENCES pagila.address(address_id) ON UPDATE CASCADE ON DELETE RESTRICT\n",
      "    TABLE \"pagila.store\" CONSTRAINT \"store_address_id_fkey\" FOREIGN KEY (address_id) REFERENCES pagila.address(address_id) ON UPDATE CASCADE ON DELETE RESTRICT\n",
      "Triggers:\n",
      "    last_updated BEFORE UPDATE ON pagila.address FOR EACH ROW EXECUTE PROCEDURE pagila.last_updated()\n",
      "\n"
     ]
    }
   ],
   "source": [
    "!psql -c \"\\d pagila.address\""
   ]
  },
  {
   "cell_type": "code",
   "execution_count": 23,
   "id": "acute-drama",
   "metadata": {},
   "outputs": [
    {
     "name": "stdout",
     "output_type": "stream",
     "text": [
      "                                               Table \"pagila.category\"\n",
      "   Column    |           Type           | Collation | Nullable |                       Default                        \n",
      "-------------+--------------------------+-----------+----------+------------------------------------------------------\n",
      " category_id | integer                  |           | not null | nextval('pagila.category_category_id_seq'::regclass)\n",
      " name        | text                     |           | not null | \n",
      " last_update | timestamp with time zone |           | not null | now()\n",
      "Indexes:\n",
      "    \"category_pkey\" PRIMARY KEY, btree (category_id)\n",
      "Referenced by:\n",
      "    TABLE \"pagila.film_category\" CONSTRAINT \"film_category_category_id_fkey\" FOREIGN KEY (category_id) REFERENCES pagila.category(category_id) ON UPDATE CASCADE ON DELETE RESTRICT\n",
      "Triggers:\n",
      "    last_updated BEFORE UPDATE ON pagila.category FOR EACH ROW EXECUTE PROCEDURE pagila.last_updated()\n",
      "\n"
     ]
    }
   ],
   "source": [
    "!psql -c \"\\d pagila.category\""
   ]
  },
  {
   "cell_type": "code",
   "execution_count": 24,
   "id": "verified-dragon",
   "metadata": {},
   "outputs": [
    {
     "name": "stdout",
     "output_type": "stream",
     "text": [
      "                                             Table \"pagila.city\"\n",
      "   Column    |           Type           | Collation | Nullable |                   Default                    \n",
      "-------------+--------------------------+-----------+----------+----------------------------------------------\n",
      " city_id     | integer                  |           | not null | nextval('pagila.city_city_id_seq'::regclass)\n",
      " city        | text                     |           | not null | \n",
      " country_id  | smallint                 |           | not null | \n",
      " last_update | timestamp with time zone |           | not null | now()\n",
      "Indexes:\n",
      "    \"city_pkey\" PRIMARY KEY, btree (city_id)\n",
      "    \"idx_fk_country_id\" btree (country_id)\n",
      "Foreign-key constraints:\n",
      "    \"city_country_id_fkey\" FOREIGN KEY (country_id) REFERENCES pagila.country(country_id) ON UPDATE CASCADE ON DELETE RESTRICT\n",
      "Referenced by:\n",
      "    TABLE \"pagila.address\" CONSTRAINT \"address_city_id_fkey\" FOREIGN KEY (city_id) REFERENCES pagila.city(city_id) ON UPDATE CASCADE ON DELETE RESTRICT\n",
      "Triggers:\n",
      "    last_updated BEFORE UPDATE ON pagila.city FOR EACH ROW EXECUTE PROCEDURE pagila.last_updated()\n",
      "\n"
     ]
    }
   ],
   "source": [
    "!psql -c \"\\d pagila.city\""
   ]
  },
  {
   "cell_type": "code",
   "execution_count": 25,
   "id": "determined-invention",
   "metadata": {},
   "outputs": [
    {
     "name": "stdout",
     "output_type": "stream",
     "text": [
      "                                               Table \"pagila.country\"\n",
      "   Column    |           Type           | Collation | Nullable |                      Default                       \n",
      "-------------+--------------------------+-----------+----------+----------------------------------------------------\n",
      " country_id  | integer                  |           | not null | nextval('pagila.country_country_id_seq'::regclass)\n",
      " country     | text                     |           | not null | \n",
      " last_update | timestamp with time zone |           | not null | now()\n",
      "Indexes:\n",
      "    \"country_pkey\" PRIMARY KEY, btree (country_id)\n",
      "Referenced by:\n",
      "    TABLE \"pagila.city\" CONSTRAINT \"city_country_id_fkey\" FOREIGN KEY (country_id) REFERENCES pagila.country(country_id) ON UPDATE CASCADE ON DELETE RESTRICT\n",
      "Triggers:\n",
      "    last_updated BEFORE UPDATE ON pagila.country FOR EACH ROW EXECUTE PROCEDURE pagila.last_updated()\n",
      "\n"
     ]
    }
   ],
   "source": [
    "!psql -c \"\\d pagila.country\""
   ]
  },
  {
   "cell_type": "code",
   "execution_count": 27,
   "id": "isolated-assault",
   "metadata": {},
   "outputs": [
    {
     "name": "stdout",
     "output_type": "stream",
     "text": [
      "                                                Table \"pagila.customer\"\n",
      "   Column    |           Type           | Collation | Nullable |                        Default                        \n",
      "-------------+--------------------------+-----------+----------+-------------------------------------------------------\n",
      " customer_id | integer                  |           | not null | nextval('pagila.customer_customer_id_seq1'::regclass)\n",
      " store_id    | smallint                 |           | not null | \n",
      " first_name  | text                     |           | not null | \n",
      " last_name   | text                     |           | not null | \n",
      " email       | text                     |           |          | \n",
      " address_id  | smallint                 |           | not null | \n",
      " activebool  | boolean                  |           | not null | true\n",
      " create_date | date                     |           | not null | ('now'::text)::date\n",
      " last_update | timestamp with time zone |           |          | now()\n",
      " active      | integer                  |           |          | \n",
      "Indexes:\n",
      "    \"customer_pkey\" PRIMARY KEY, btree (customer_id)\n",
      "    \"idx_fk_address_id\" btree (address_id)\n",
      "    \"idx_fk_store_id\" btree (store_id)\n",
      "    \"idx_last_name\" btree (last_name)\n",
      "Foreign-key constraints:\n",
      "    \"customer_address_id_fkey\" FOREIGN KEY (address_id) REFERENCES pagila.address(address_id) ON UPDATE CASCADE ON DELETE RESTRICT\n",
      "    \"customer_store_id_fkey\" FOREIGN KEY (store_id) REFERENCES pagila.store(store_id) ON UPDATE CASCADE ON DELETE RESTRICT\n",
      "Referenced by:\n",
      "    TABLE \"pagila.rental\" CONSTRAINT \"rental_customer_id_fkey\" FOREIGN KEY (customer_id) REFERENCES pagila.customer(customer_id) ON UPDATE CASCADE ON DELETE RESTRICT\n",
      "Triggers:\n",
      "    last_updated BEFORE UPDATE ON pagila.customer FOR EACH ROW EXECUTE PROCEDURE pagila.last_updated()\n",
      "\n"
     ]
    }
   ],
   "source": [
    "!psql -c \"\\d pagila.customer\""
   ]
  },
  {
   "cell_type": "code",
   "execution_count": 29,
   "id": "domestic-broadcasting",
   "metadata": {},
   "outputs": [
    {
     "name": "stdout",
     "output_type": "stream",
     "text": [
      "                                                  Table \"pagila.film\"\n",
      "        Column        |           Type           | Collation | Nullable |                   Default                    \n",
      "----------------------+--------------------------+-----------+----------+----------------------------------------------\n",
      " film_id              | integer                  |           | not null | nextval('pagila.film_film_id_seq'::regclass)\n",
      " title                | text                     |           | not null | \n",
      " description          | text                     |           |          | \n",
      " release_year         | pagila.year              |           |          | \n",
      " language_id          | smallint                 |           | not null | \n",
      " original_language_id | smallint                 |           |          | \n",
      " rental_duration      | smallint                 |           | not null | 3\n",
      " rental_rate          | numeric(4,2)             |           | not null | 4.99\n",
      " length               | smallint                 |           |          | \n",
      " replacement_cost     | numeric(5,2)             |           | not null | 19.99\n",
      " rating               | pagila.mpaa_rating       |           |          | 'G'::pagila.mpaa_rating\n",
      " last_update          | timestamp with time zone |           | not null | now()\n",
      " special_features     | text[]                   |           |          | \n",
      " fulltext             | tsvector                 |           | not null | \n",
      "Indexes:\n",
      "    \"film_pkey\" PRIMARY KEY, btree (film_id)\n",
      "    \"film_fulltext_idx\" gist (fulltext)\n",
      "    \"idx_fk_language_id\" btree (language_id)\n",
      "    \"idx_fk_original_language_id\" btree (original_language_id)\n",
      "    \"idx_title\" btree (title)\n",
      "Foreign-key constraints:\n",
      "    \"film_language_id_fkey\" FOREIGN KEY (language_id) REFERENCES pagila.language(language_id) ON UPDATE CASCADE ON DELETE RESTRICT\n",
      "    \"film_original_language_id_fkey\" FOREIGN KEY (original_language_id) REFERENCES pagila.language(language_id) ON UPDATE CASCADE ON DELETE RESTRICT\n",
      "Referenced by:\n",
      "    TABLE \"pagila.film_actor\" CONSTRAINT \"film_actor_film_id_fkey\" FOREIGN KEY (film_id) REFERENCES pagila.film(film_id) ON UPDATE CASCADE ON DELETE RESTRICT\n",
      "    TABLE \"pagila.film_category\" CONSTRAINT \"film_category_film_id_fkey\" FOREIGN KEY (film_id) REFERENCES pagila.film(film_id) ON UPDATE CASCADE ON DELETE RESTRICT\n",
      "    TABLE \"pagila.inventory\" CONSTRAINT \"inventory_film_id_fkey\" FOREIGN KEY (film_id) REFERENCES pagila.film(film_id) ON UPDATE CASCADE ON DELETE RESTRICT\n",
      "Triggers:\n",
      "    film_fulltext_trigger BEFORE INSERT OR UPDATE ON pagila.film FOR EACH ROW EXECUTE PROCEDURE tsvector_update_trigger('fulltext', 'pg_catalog.english', 'title', 'description')\n",
      "    last_updated BEFORE UPDATE ON pagila.film FOR EACH ROW EXECUTE PROCEDURE pagila.last_updated()\n",
      "\n"
     ]
    }
   ],
   "source": [
    "!psql -c \"\\d pagila.film\""
   ]
  },
  {
   "cell_type": "code",
   "execution_count": 30,
   "id": "improving-cliff",
   "metadata": {},
   "outputs": [
    {
     "name": "stdout",
     "output_type": "stream",
     "text": [
      "                        Table \"pagila.film_actor\"\n",
      "   Column    |           Type           | Collation | Nullable | Default \n",
      "-------------+--------------------------+-----------+----------+---------\n",
      " actor_id    | smallint                 |           | not null | \n",
      " film_id     | smallint                 |           | not null | \n",
      " last_update | timestamp with time zone |           | not null | now()\n",
      "Indexes:\n",
      "    \"film_actor_pkey\" PRIMARY KEY, btree (actor_id, film_id)\n",
      "    \"idx_fk_film_id\" btree (film_id)\n",
      "Foreign-key constraints:\n",
      "    \"film_actor_actor_id_fkey\" FOREIGN KEY (actor_id) REFERENCES pagila.actor(actor_id) ON UPDATE CASCADE ON DELETE RESTRICT\n",
      "    \"film_actor_film_id_fkey\" FOREIGN KEY (film_id) REFERENCES pagila.film(film_id) ON UPDATE CASCADE ON DELETE RESTRICT\n",
      "Triggers:\n",
      "    last_updated BEFORE UPDATE ON pagila.film_actor FOR EACH ROW EXECUTE PROCEDURE pagila.last_updated()\n",
      "\n"
     ]
    }
   ],
   "source": [
    "!psql -c \"\\d pagila.film_actor\""
   ]
  },
  {
   "cell_type": "code",
   "execution_count": 31,
   "id": "adapted-dancing",
   "metadata": {},
   "outputs": [
    {
     "name": "stdout",
     "output_type": "stream",
     "text": [
      "                      Table \"pagila.film_category\"\n",
      "   Column    |           Type           | Collation | Nullable | Default \n",
      "-------------+--------------------------+-----------+----------+---------\n",
      " film_id     | smallint                 |           | not null | \n",
      " category_id | smallint                 |           | not null | \n",
      " last_update | timestamp with time zone |           | not null | now()\n",
      "Indexes:\n",
      "    \"film_category_pkey\" PRIMARY KEY, btree (film_id, category_id)\n",
      "Foreign-key constraints:\n",
      "    \"film_category_category_id_fkey\" FOREIGN KEY (category_id) REFERENCES pagila.category(category_id) ON UPDATE CASCADE ON DELETE RESTRICT\n",
      "    \"film_category_film_id_fkey\" FOREIGN KEY (film_id) REFERENCES pagila.film(film_id) ON UPDATE CASCADE ON DELETE RESTRICT\n",
      "Triggers:\n",
      "    last_updated BEFORE UPDATE ON pagila.film_category FOR EACH ROW EXECUTE PROCEDURE pagila.last_updated()\n",
      "\n"
     ]
    }
   ],
   "source": [
    "!psql -c \"\\d pagila.film_category\""
   ]
  },
  {
   "cell_type": "code",
   "execution_count": 34,
   "id": "dressed-mystery",
   "metadata": {},
   "outputs": [
    {
     "name": "stdout",
     "output_type": "stream",
     "text": [
      "                                                Table \"pagila.inventory\"\n",
      "    Column    |           Type           | Collation | Nullable |                        Default                         \n",
      "--------------+--------------------------+-----------+----------+--------------------------------------------------------\n",
      " inventory_id | integer                  |           | not null | nextval('pagila.inventory_inventory_id_seq'::regclass)\n",
      " film_id      | smallint                 |           | not null | \n",
      " store_id     | smallint                 |           | not null | \n",
      " last_update  | timestamp with time zone |           | not null | now()\n",
      "Indexes:\n",
      "    \"inventory_pkey\" PRIMARY KEY, btree (inventory_id)\n",
      "    \"idx_store_id_film_id\" btree (store_id, film_id)\n",
      "Foreign-key constraints:\n",
      "    \"inventory_film_id_fkey\" FOREIGN KEY (film_id) REFERENCES pagila.film(film_id) ON UPDATE CASCADE ON DELETE RESTRICT\n",
      "    \"inventory_store_id_fkey\" FOREIGN KEY (store_id) REFERENCES pagila.store(store_id) ON UPDATE CASCADE ON DELETE RESTRICT\n",
      "Referenced by:\n",
      "    TABLE \"pagila.rental\" CONSTRAINT \"rental_inventory_id_fkey\" FOREIGN KEY (inventory_id) REFERENCES pagila.inventory(inventory_id) ON UPDATE CASCADE ON DELETE RESTRICT\n",
      "Triggers:\n",
      "    last_updated BEFORE UPDATE ON pagila.inventory FOR EACH ROW EXECUTE PROCEDURE pagila.last_updated()\n",
      "\n"
     ]
    }
   ],
   "source": [
    "!psql -c \"\\d pagila.inventory\""
   ]
  },
  {
   "cell_type": "code",
   "execution_count": 35,
   "id": "cooperative-salvation",
   "metadata": {},
   "outputs": [
    {
     "name": "stdout",
     "output_type": "stream",
     "text": [
      "                                               Table \"pagila.language\"\n",
      "   Column    |           Type           | Collation | Nullable |                       Default                        \n",
      "-------------+--------------------------+-----------+----------+------------------------------------------------------\n",
      " language_id | integer                  |           | not null | nextval('pagila.language_language_id_seq'::regclass)\n",
      " name        | character(20)            |           | not null | \n",
      " last_update | timestamp with time zone |           | not null | now()\n",
      "Indexes:\n",
      "    \"language_pkey\" PRIMARY KEY, btree (language_id)\n",
      "Referenced by:\n",
      "    TABLE \"pagila.film\" CONSTRAINT \"film_language_id_fkey\" FOREIGN KEY (language_id) REFERENCES pagila.language(language_id) ON UPDATE CASCADE ON DELETE RESTRICT\n",
      "    TABLE \"pagila.film\" CONSTRAINT \"film_original_language_id_fkey\" FOREIGN KEY (original_language_id) REFERENCES pagila.language(language_id) ON UPDATE CASCADE ON DELETE RESTRICT\n",
      "Triggers:\n",
      "    last_updated BEFORE UPDATE ON pagila.language FOR EACH ROW EXECUTE PROCEDURE pagila.last_updated()\n",
      "\n"
     ]
    }
   ],
   "source": [
    "!psql -c \"\\d pagila.language\""
   ]
  },
  {
   "cell_type": "code",
   "execution_count": 37,
   "id": "center-qatar",
   "metadata": {},
   "outputs": [
    {
     "name": "stdout",
     "output_type": "stream",
     "text": [
      "                                               Table \"pagila.payment\"\n",
      "    Column    |           Type           | Collation | Nullable |                      Default                       \n",
      "--------------+--------------------------+-----------+----------+----------------------------------------------------\n",
      " payment_id   | integer                  |           | not null | nextval('pagila.payment_payment_id_seq'::regclass)\n",
      " customer_id  | smallint                 |           | not null | \n",
      " staff_id     | smallint                 |           | not null | \n",
      " rental_id    | integer                  |           | not null | \n",
      " amount       | numeric(5,2)             |           | not null | \n",
      " payment_date | timestamp with time zone |           | not null | \n",
      "Indexes:\n",
      "    \"idx_fk_customer_id\" btree (customer_id)\n",
      "    \"idx_fk_staff_id\" btree (staff_id)\n",
      "\n"
     ]
    }
   ],
   "source": [
    "!psql -c \"\\d pagila.payment\""
   ]
  },
  {
   "cell_type": "code",
   "execution_count": 38,
   "id": "postal-society",
   "metadata": {},
   "outputs": [
    {
     "name": "stdout",
     "output_type": "stream",
     "text": [
      "                                               Table \"pagila.rental\"\n",
      "    Column    |           Type           | Collation | Nullable |                     Default                      \n",
      "--------------+--------------------------+-----------+----------+--------------------------------------------------\n",
      " rental_id    | integer                  |           | not null | nextval('pagila.rental_rental_id_seq'::regclass)\n",
      " rental_date  | timestamp with time zone |           | not null | \n",
      " inventory_id | integer                  |           | not null | \n",
      " customer_id  | smallint                 |           | not null | \n",
      " return_date  | timestamp with time zone |           |          | \n",
      " staff_id     | smallint                 |           | not null | \n",
      " last_update  | timestamp with time zone |           | not null | now()\n",
      "Indexes:\n",
      "    \"rental_pkey\" PRIMARY KEY, btree (rental_id)\n",
      "    \"idx_unq_rental_rental_date_inventory_id_customer_id\" UNIQUE, btree (rental_date, inventory_id, customer_id)\n",
      "    \"idx_fk_inventory_id\" btree (inventory_id)\n",
      "Foreign-key constraints:\n",
      "    \"rental_customer_id_fkey\" FOREIGN KEY (customer_id) REFERENCES pagila.customer(customer_id) ON UPDATE CASCADE ON DELETE RESTRICT\n",
      "    \"rental_inventory_id_fkey\" FOREIGN KEY (inventory_id) REFERENCES pagila.inventory(inventory_id) ON UPDATE CASCADE ON DELETE RESTRICT\n",
      "    \"rental_staff_id_fkey\" FOREIGN KEY (staff_id) REFERENCES pagila.staff(staff_id) ON UPDATE CASCADE ON DELETE RESTRICT\n",
      "Triggers:\n",
      "    last_updated BEFORE UPDATE ON pagila.rental FOR EACH ROW EXECUTE PROCEDURE pagila.last_updated()\n",
      "\n"
     ]
    }
   ],
   "source": [
    "!psql -c \"\\d pagila.rental\""
   ]
  },
  {
   "cell_type": "code",
   "execution_count": 41,
   "id": "consistent-heath",
   "metadata": {},
   "outputs": [
    {
     "name": "stdout",
     "output_type": "stream",
     "text": [
      "                                              Table \"pagila.staff\"\n",
      "   Column    |           Type           | Collation | Nullable |                    Default                     \n",
      "-------------+--------------------------+-----------+----------+------------------------------------------------\n",
      " staff_id    | integer                  |           | not null | nextval('pagila.staff_staff_id_seq'::regclass)\n",
      " first_name  | text                     |           | not null | \n",
      " last_name   | text                     |           | not null | \n",
      " address_id  | smallint                 |           | not null | \n",
      " email       | text                     |           |          | \n",
      " store_id    | smallint                 |           | not null | \n",
      " active      | boolean                  |           | not null | true\n",
      " username    | text                     |           | not null | \n",
      " password    | text                     |           |          | \n",
      " last_update | timestamp with time zone |           | not null | now()\n",
      " picture     | bytea                    |           |          | \n",
      "Indexes:\n",
      "    \"staff_pkey\" PRIMARY KEY, btree (staff_id)\n",
      "Foreign-key constraints:\n",
      "    \"staff_address_id_fkey\" FOREIGN KEY (address_id) REFERENCES pagila.address(address_id) ON UPDATE CASCADE ON DELETE RESTRICT\n",
      "    \"staff_store_id_fkey\" FOREIGN KEY (store_id) REFERENCES pagila.store(store_id)\n",
      "Referenced by:\n",
      "    TABLE \"pagila.rental\" CONSTRAINT \"rental_staff_id_fkey\" FOREIGN KEY (staff_id) REFERENCES pagila.staff(staff_id) ON UPDATE CASCADE ON DELETE RESTRICT\n",
      "Triggers:\n",
      "    last_updated BEFORE UPDATE ON pagila.staff FOR EACH ROW EXECUTE PROCEDURE pagila.last_updated()\n",
      "\n"
     ]
    }
   ],
   "source": [
    "!psql -c \"\\d pagila.staff\""
   ]
  },
  {
   "cell_type": "code",
   "execution_count": 43,
   "id": "automatic-bulgarian",
   "metadata": {},
   "outputs": [
    {
     "name": "stdout",
     "output_type": "stream",
     "text": [
      "                                                Table \"pagila.store\"\n",
      "      Column      |           Type           | Collation | Nullable |                    Default                     \n",
      "------------------+--------------------------+-----------+----------+------------------------------------------------\n",
      " store_id         | integer                  |           | not null | nextval('pagila.store_store_id_seq'::regclass)\n",
      " manager_staff_id | smallint                 |           | not null | \n",
      " address_id       | smallint                 |           | not null | \n",
      " last_update      | timestamp with time zone |           | not null | now()\n",
      "Indexes:\n",
      "    \"store_pkey\" PRIMARY KEY, btree (store_id)\n",
      "    \"idx_unq_manager_staff_id\" UNIQUE, btree (manager_staff_id)\n",
      "Foreign-key constraints:\n",
      "    \"store_address_id_fkey\" FOREIGN KEY (address_id) REFERENCES pagila.address(address_id) ON UPDATE CASCADE ON DELETE RESTRICT\n",
      "Referenced by:\n",
      "    TABLE \"pagila.customer\" CONSTRAINT \"customer_store_id_fkey\" FOREIGN KEY (store_id) REFERENCES pagila.store(store_id) ON UPDATE CASCADE ON DELETE RESTRICT\n",
      "    TABLE \"pagila.inventory\" CONSTRAINT \"inventory_store_id_fkey\" FOREIGN KEY (store_id) REFERENCES pagila.store(store_id) ON UPDATE CASCADE ON DELETE RESTRICT\n",
      "    TABLE \"pagila.staff\" CONSTRAINT \"staff_store_id_fkey\" FOREIGN KEY (store_id) REFERENCES pagila.store(store_id)\n",
      "Triggers:\n",
      "    last_updated BEFORE UPDATE ON pagila.store FOR EACH ROW EXECUTE PROCEDURE pagila.last_updated()\n",
      "\n"
     ]
    }
   ],
   "source": [
    "!psql -c \"\\d pagila.store\""
   ]
  },
  {
   "cell_type": "markdown",
   "id": "possible-payday",
   "metadata": {},
   "source": [
    "### Inner Joins"
   ]
  },
  {
   "cell_type": "markdown",
   "id": "signed-orange",
   "metadata": {},
   "source": [
    "Selects the first name, last name, and username where the staff store_id and the store_id are the same (1) in alphabetical by first name"
   ]
  },
  {
   "cell_type": "code",
   "execution_count": 90,
   "id": "suburban-artist",
   "metadata": {},
   "outputs": [
    {
     "name": "stdout",
     "output_type": "stream",
     "text": [
      " first_name | last_name | username \n",
      "------------+-----------+----------\n",
      " Mike       | Hillyer   | Mike\n",
      "(1 row)\n",
      "\n"
     ]
    }
   ],
   "source": [
    "!psql -c \"select first_name, last_name, username from pagila.staff inner join pagila.store on staff.store_id = store.store_id where staff.store_id = 1 order by first_name\""
   ]
  },
  {
   "cell_type": "markdown",
   "id": "eleven-produce",
   "metadata": {},
   "source": [
    "Selects the rental date and payment date from the payment and rental table inner joined where the staff_id for payment and rental are the same and the amount is greater than $10"
   ]
  },
  {
   "cell_type": "code",
   "execution_count": 83,
   "id": "dietary-desert",
   "metadata": {},
   "outputs": [
    {
     "name": "stdout",
     "output_type": "stream",
     "text": [
      "      rental_date       |         payment_date          \n",
      "------------------------+-------------------------------\n",
      " 2005-08-21 21:27:43+00 | 2017-01-30 01:13:42.996577+00\n",
      " 2005-08-21 21:27:43+00 | 2017-01-25 20:27:24.996577+00\n",
      " 2005-08-21 21:27:43+00 | 2017-01-28 23:29:52.996577+00\n",
      " 2005-08-21 21:27:43+00 | 2017-01-26 00:54:49.996577+00\n",
      " 2005-08-21 21:27:43+00 | 2017-02-19 17:08:55.996577+00\n",
      " 2005-08-21 21:27:43+00 | 2017-02-17 22:19:47.996577+00\n",
      " 2005-08-21 21:27:43+00 | 2017-02-18 07:01:49.996577+00\n",
      " 2005-08-21 21:27:43+00 | 2017-02-16 13:20:28.996577+00\n",
      " 2005-08-21 21:27:43+00 | 2017-02-21 03:46:53.996577+00\n",
      " 2005-08-21 21:27:43+00 | 2017-02-20 06:43:53.996577+00\n",
      "(10 rows)\n",
      "\n"
     ]
    }
   ],
   "source": [
    "!psql -c \"select rental_date, payment_date from pagila.payment inner join pagila.rental on payment.staff_id = rental.staff_id where payment.amount > 10 order by inventory_id  limit 10\""
   ]
  },
  {
   "cell_type": "markdown",
   "id": "removed-ground",
   "metadata": {},
   "source": [
    "Selects the unique title and release year for film and film_actor where film_id is the same and the title starts with A"
   ]
  },
  {
   "cell_type": "code",
   "execution_count": 79,
   "id": "unavailable-bookmark",
   "metadata": {},
   "outputs": [
    {
     "name": "stdout",
     "output_type": "stream",
     "text": [
      "        title         | release_year \n",
      "----------------------+--------------\n",
      " AUTUMN CROW          |         2006\n",
      " ATTRACTION NEWTON    |         2006\n",
      " ATTACKS HATE         |         2006\n",
      " ATLANTIS CAUSE       |         2006\n",
      " ARTIST COLDBLOODED   |         2006\n",
      " ARSENIC INDEPENDENCE |         2006\n",
      " ARMY FLINTSTONES     |         2006\n",
      " ARMAGEDDON LOST      |         2006\n",
      " ARK RIDGEMONT        |         2006\n",
      " ARIZONA BANG         |         2006\n",
      "(10 rows)\n",
      "\n"
     ]
    }
   ],
   "source": [
    "!psql -c \"select distinct title, release_year from pagila.film inner join pagila.film_actor on film.film_id = film_actor.film_id where title like 'A%' order by title desc  limit 10\""
   ]
  },
  {
   "cell_type": "markdown",
   "id": "collect-cricket",
   "metadata": {},
   "source": [
    "### Outer Joins"
   ]
  },
  {
   "cell_type": "markdown",
   "id": "fifth-poetry",
   "metadata": {},
   "source": [
    "Selects unique title, rental_rate and rating from the outer join of film_actor where the film_id is the same and the title starts with A "
   ]
  },
  {
   "cell_type": "code",
   "execution_count": 87,
   "id": "auburn-tennessee",
   "metadata": {},
   "outputs": [
    {
     "name": "stdout",
     "output_type": "stream",
     "text": [
      "      title       | rental_rate | rating \n",
      "------------------+-------------+--------\n",
      " ACADEMY DINOSAUR |        0.99 | PG\n",
      " ACE GOLDFINGER   |        4.99 | G\n",
      " ADAPTATION HOLES |        2.99 | NC-17\n",
      " AFFAIR PREJUDICE |        2.99 | G\n",
      " AFRICAN EGG      |        2.99 | G\n",
      " AGENT TRUMAN     |        2.99 | PG\n",
      " AIRPLANE SIERRA  |        4.99 | PG-13\n",
      " AIRPORT POLLOCK  |        4.99 | R\n",
      " ALABAMA DEVIL    |        2.99 | PG-13\n",
      " ALADDIN CALENDAR |        4.99 | NC-17\n",
      "(10 rows)\n",
      "\n"
     ]
    }
   ],
   "source": [
    "!psql -c \"select distinct title, rental_rate, rating from pagila.film right outer join pagila.film_actor on film.film_id = film_actor.film_id where title like 'A%' order by title limit 10\""
   ]
  },
  {
   "cell_type": "markdown",
   "id": "pending-above",
   "metadata": {},
   "source": [
    "Selects payment_id return date and last_update from the payment and rental outer joined where the staff_id was the same and the amount was above $10 "
   ]
  },
  {
   "cell_type": "code",
   "execution_count": 89,
   "id": "embedded-symposium",
   "metadata": {},
   "outputs": [
    {
     "name": "stdout",
     "output_type": "stream",
     "text": [
      " payment_id |      return_date       |      last_update       \n",
      "------------+------------------------+------------------------\n",
      "      16883 | 2005-08-30 22:26:43+00 | 2017-02-16 02:30:53+00\n",
      "      16883 | 2005-08-11 21:35:10+00 | 2017-02-16 02:30:53+00\n",
      "      16358 | 2005-08-30 22:26:43+00 | 2017-02-16 02:30:53+00\n",
      "      16358 | 2005-08-11 21:35:10+00 | 2017-02-16 02:30:53+00\n",
      "      16073 | 2005-08-30 22:26:43+00 | 2017-02-16 02:30:53+00\n",
      "      16125 | 2005-08-30 22:26:43+00 | 2017-02-16 02:30:53+00\n",
      "      16073 | 2005-08-11 21:35:10+00 | 2017-02-16 02:30:53+00\n",
      "      16125 | 2005-08-11 21:35:10+00 | 2017-02-16 02:30:53+00\n",
      "      17286 | 2005-08-30 22:26:43+00 | 2017-02-16 02:30:53+00\n",
      "      17055 | 2005-07-11 21:29:15+00 | 2017-02-16 02:30:53+00\n",
      "(10 rows)\n",
      "\n"
     ]
    }
   ],
   "source": [
    "!psql -c \"select payment_id, return_date, last_update from pagila.payment left outer join pagila.rental on payment.staff_id = rental.staff_id where payment.amount > 10 order by inventory_id  limit 10\""
   ]
  },
  {
   "cell_type": "markdown",
   "id": "maritime-shock",
   "metadata": {},
   "source": [
    "Selects the first_name last_name and email from the staff joined with store where store_id is the same (either 1 or 2) ordered by first name"
   ]
  },
  {
   "cell_type": "code",
   "execution_count": 95,
   "id": "lined-faculty",
   "metadata": {},
   "outputs": [
    {
     "name": "stdout",
     "output_type": "stream",
     "text": [
      " first_name | last_name |            email             \n",
      "------------+-----------+------------------------------\n",
      " Jon        | Stephens  | Jon.Stephens@sakilastaff.com\n",
      " Mike       | Hillyer   | Mike.Hillyer@sakilastaff.com\n",
      "(2 rows)\n",
      "\n"
     ]
    }
   ],
   "source": [
    "!psql -c \"select first_name, last_name, email from pagila.staff full outer join pagila.store on staff.store_id = store.store_id where staff.store_id = 2 or staff.store_id = 1 order by first_name\""
   ]
  },
  {
   "cell_type": "markdown",
   "id": "reduced-accessory",
   "metadata": {},
   "source": [
    "### Self-joins"
   ]
  },
  {
   "cell_type": "code",
   "execution_count": 98,
   "id": "unlimited-software",
   "metadata": {},
   "outputs": [
    {
     "name": "stdout",
     "output_type": "stream",
     "text": [
      "SELECT 16049\n"
     ]
    }
   ],
   "source": [
    "!psql -c \"create table payment2 as table pagila.payment\""
   ]
  },
  {
   "cell_type": "code",
   "execution_count": 106,
   "id": "median-appeal",
   "metadata": {},
   "outputs": [
    {
     "name": "stdout",
     "output_type": "stream",
     "text": [
      " payment_id | payment_id |         payment_date          \n",
      "------------+------------+-------------------------------\n",
      "      16766 |      16127 | 2017-01-30 13:15:57.996577+00\n",
      "      16127 |      16766 | 2017-01-30 13:15:57.996577+00\n",
      "      19019 |      18463 | 2017-02-20 08:38:55.996577+00\n",
      "      17533 |      18750 | 2017-02-21 07:33:16.996577+00\n",
      "      18463 |      19019 | 2017-02-20 08:38:55.996577+00\n",
      "      20815 |      19585 | 2017-03-22 03:20:08.996577+00\n",
      "      21273 |      19722 | 2017-03-17 06:09:21.996577+00\n",
      "      23495 |      19873 | 2017-03-18 06:23:35.996577+00\n",
      "      23482 |      19899 | 2017-03-17 08:55:45.996577+00\n",
      "      22231 |      20088 | 2017-03-02 08:48:08.996577+00\n",
      "(10 rows)\n",
      "\n"
     ]
    }
   ],
   "source": [
    "!psql -c \"select payment2.payment_id, payment.payment_id,payment.payment_date from pagila.payment inner join payment2 on payment.payment_id != payment2.payment_id and payment.payment_date = payment2.payment_date where payment.amount < 5 order by payment.payment_id limit 10\""
   ]
  }
 ],
 "metadata": {
  "environment": {
   "name": "common-cpu.mnightly-2021-01-20-debian-10-test",
   "type": "gcloud",
   "uri": "gcr.io/deeplearning-platform-release/base-cpu:mnightly-2021-01-20-debian-10-test"
  },
  "kernelspec": {
   "display_name": "Python 3",
   "language": "python",
   "name": "python3"
  },
  "language_info": {
   "codemirror_mode": {
    "name": "ipython",
    "version": 3
   },
   "file_extension": ".py",
   "mimetype": "text/x-python",
   "name": "python",
   "nbconvert_exporter": "python",
   "pygments_lexer": "ipython3",
   "version": "3.7.9"
  }
 },
 "nbformat": 4,
 "nbformat_minor": 5
}
