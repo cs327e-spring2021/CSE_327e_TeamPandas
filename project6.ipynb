{
 "cells": [
  {
   "cell_type": "code",
   "execution_count": 1,
   "id": "devoted-patient",
   "metadata": {},
   "outputs": [
    {
     "name": "stdout",
     "output_type": "stream",
     "text": [
      "env: CYPHER=/home/jupyter/neo4j-community-4.1.3/bin/cypher-shell\n",
      "env: USER=neo4j\n",
      "env: PW=teampandas\n"
     ]
    }
   ],
   "source": [
    "%env CYPHER=/home/jupyter/neo4j-community-4.1.3/bin/cypher-shell\n",
    "%env USER=neo4j\n",
    "%env PW=teampandas"
   ]
  },
  {
   "cell_type": "code",
   "execution_count": 23,
   "id": "romantic-candidate",
   "metadata": {},
   "outputs": [],
   "source": [
    "CONNECT=\"$CYPHER -u $USER -p $PW\""
   ]
  },
  {
   "cell_type": "code",
   "execution_count": 24,
   "id": "mounted-provision",
   "metadata": {},
   "outputs": [
    {
     "name": "stdout",
     "output_type": "stream",
     "text": [
      "+------------------------------------------------------------------------------------------------+\n",
      "| name     | address          | role         | requestedStatus | currentStatus | error | default |\n",
      "+------------------------------------------------------------------------------------------------+\n",
      "| \"neo4j\"  | \"localhost:7687\" | \"standalone\" | \"online\"        | \"online\"      | \"\"    | TRUE    |\n",
      "| \"system\" | \"localhost:7687\" | \"standalone\" | \"online\"        | \"online\"      | \"\"    | FALSE   |\n",
      "+------------------------------------------------------------------------------------------------+\n",
      "\n",
      "2 rows available after 2 ms, consumed after another 4 ms\n"
     ]
    }
   ],
   "source": [
    "!{CONNECT} \"SHOW DATABASES\""
   ]
  },
  {
   "cell_type": "code",
   "execution_count": 25,
   "id": "polish-swaziland",
   "metadata": {},
   "outputs": [
    {
     "name": "stdout",
     "output_type": "stream",
     "text": [
      "0 rows available after 15 ms, consumed after another 0 ms\n"
     ]
    }
   ],
   "source": [
    "!{CONNECT} \"MATCH (n) DETACH DELETE n\""
   ]
  },
  {
   "cell_type": "code",
   "execution_count": 26,
   "id": "democratic-sunrise",
   "metadata": {},
   "outputs": [
    {
     "name": "stdout",
     "output_type": "stream",
     "text": [
      "COUNT(l)\n",
      "5835\n",
      "COUNT(a)\n",
      "42\n",
      "COUNT(n)\n",
      "41\n",
      "COUNT(h)\n",
      "4633\n",
      "COUNT(u)\n",
      "55917\n",
      "COUNT(r)\n",
      "62976\n"
     ]
    }
   ],
   "source": [
    "!cat /home/jupyter/airbnb/load_data.cypher | {CONNECT} --format plain"
   ]
  },
  {
   "cell_type": "code",
   "execution_count": 27,
   "id": "loved-speaker",
   "metadata": {},
   "outputs": [
    {
     "name": "stdout",
     "output_type": "stream",
     "text": [
      "+----------+\n",
      "| count(n) |\n",
      "+----------+\n",
      "| 129444   |\n",
      "+----------+\n",
      "\n",
      "1 row available after 8 ms, consumed after another 1 ms\n"
     ]
    }
   ],
   "source": [
    "!{CONNECT} \"MATCH (n) RETURN count(n)\""
   ]
  },
  {
   "cell_type": "code",
   "execution_count": 28,
   "id": "progressive-poker",
   "metadata": {},
   "outputs": [
    {
     "name": "stdout",
     "output_type": "stream",
     "text": [
      "+-----------------------------+\n",
      "| labels(n)        | count(n) |\n",
      "+-----------------------------+\n",
      "| [\"Review\"]       | 62976    |\n",
      "| [\"User\"]         | 55917    |\n",
      "| [\"Listing\"]      | 5835     |\n",
      "| [\"Amenity\"]      | 42       |\n",
      "| [\"Neighborhood\"] | 41       |\n",
      "| [\"Host\"]         | 4633     |\n",
      "+-----------------------------+\n",
      "\n",
      "6 rows available after 13 ms, consumed after another 79 ms\n"
     ]
    }
   ],
   "source": [
    "!{CONNECT} \"MATCH (n) RETURN distinct labels(n), count(n)\""
   ]
  },
  {
   "cell_type": "markdown",
   "id": "intended-suspect",
   "metadata": {},
   "source": [
    "### Q1. How many hosts are located in \"Austin, Texas, United States\"?"
   ]
  },
  {
   "cell_type": "code",
   "execution_count": 29,
   "id": "future-tattoo",
   "metadata": {},
   "outputs": [
    {
     "name": "stdout",
     "output_type": "stream",
     "text": [
      "+----------+\n",
      "| count(h) |\n",
      "+----------+\n",
      "| 3774     |\n",
      "+----------+\n",
      "\n",
      "1 row available after 22 ms, consumed after another 29 ms\n"
     ]
    }
   ],
   "source": [
    "!{CONNECT} \"MATCH (h:Host) where h.location= 'Austin, Texas, United States' return count(h)\""
   ]
  },
  {
   "cell_type": "markdown",
   "id": "beautiful-respondent",
   "metadata": {},
   "source": [
    "### Q2. Which listings does host_id = \"4641823\" have? Return the listing name, property_type, price, and availability_365 sorted by price. Limit the results to 10."
   ]
  },
  {
   "cell_type": "code",
   "execution_count": 30,
   "id": "confirmed-practitioner",
   "metadata": {},
   "outputs": [
    {
     "name": "stdout",
     "output_type": "stream",
     "text": [
      "+----------------------------------------------------------------------------------------+\n",
      "| l.name                                | l.property_type | l.price | l.availability_365 |\n",
      "+----------------------------------------------------------------------------------------+\n",
      "| \"1BR Convenient Austin Condo \"        | \"Apartment\"     | 93.0    | 354                |\n",
      "| \"1BR Inviting Downtown Condo, Pool\"   | \"Apartment\"     | 99.0    | 335                |\n",
      "| \"2BR/1.5BA Charming House Off SoCo\"   | \"House\"         | 110.0   | 357                |\n",
      "| \"2BR Prime East-Side Downtown\"        | \"House\"         | 121.0   | 341                |\n",
      "| \"1BR SoCo Treehouse Studio\"           | \"House\"         | 129.0   | 327                |\n",
      "| \"1BR/1.5BA East 6th, Colorful 2Story\" | \"Apartment\"     | 134.0   | 344                |\n",
      "| \"3BR Prestigious Home Travis Heights\" | \"House\"         | 138.0   | 0                  |\n",
      "| \"1BR/1.5BA Perfectly Located Casita\"  | \"House\"         | 140.0   | 351                |\n",
      "| \"3BR/2BA Inviting Retreat off SoCo\"   | \"House\"         | 145.0   | 353                |\n",
      "| \"2BR/2BA Austin Soul Off Soco!\"       | \"House\"         | 149.0   | 334                |\n",
      "+----------------------------------------------------------------------------------------+\n",
      "\n",
      "10 rows available after 83 ms, consumed after another 11 ms\n"
     ]
    }
   ],
   "source": [
    "!{CONNECT} \"MATCH (h:Host)-[:HOSTS]-(l:Listing) where h.host_id='4641823' return l.name,l.property_type,l.price, l.availability_365 order by l.price limit 10\""
   ]
  },
  {
   "cell_type": "markdown",
   "id": "herbal-obligation",
   "metadata": {},
   "source": [
    "### Q3. Which users wrote a review for listing_id = \"5293632\"? Return the user’s id and name sorted alphabetically by name. Limit the results to 10."
   ]
  },
  {
   "cell_type": "code",
   "execution_count": 31,
   "id": "pacific-apollo",
   "metadata": {},
   "outputs": [
    {
     "name": "stdout",
     "output_type": "stream",
     "text": [
      "+--------------------------------+\n",
      "| u.user_id  | u.name            |\n",
      "+--------------------------------+\n",
      "| \"18286390\" | \"Annie\"           |\n",
      "| \"30193020\" | \"Carole\"          |\n",
      "| \"16497582\" | \"Cory\"            |\n",
      "| \"35022795\" | \"Craig And Trina\" |\n",
      "| \"13281665\" | \"Dianne\"          |\n",
      "| \"29601600\" | \"Hannah\"          |\n",
      "| \"11940539\" | \"Jacob\"           |\n",
      "| \"3213433\"  | \"Jessie\"          |\n",
      "| \"41722221\" | \"Johannes\"        |\n",
      "| \"28480571\" | \"Ju-Ju\"           |\n",
      "+--------------------------------+\n",
      "\n",
      "10 rows available after 107 ms, consumed after another 5 ms\n"
     ]
    }
   ],
   "source": [
    "!{CONNECT} \"MATCH (u:User)-[:WROTE]->(r:Review)-[:REVIEWS]->(l:Listing) where l.listing_id='5293632' return u.user_id, u.name order by u.name limit 10\""
   ]
  },
  {
   "cell_type": "markdown",
   "id": "specialized-savage",
   "metadata": {},
   "source": [
    "### Q4. Which users wrote a review for any listing which has the amenities \"Washer\" and \"Dryer\"? Return the user’s id and name sorted alphabetically by name. Limit the results to 10."
   ]
  },
  {
   "cell_type": "code",
   "execution_count": 91,
   "id": "widespread-yorkshire",
   "metadata": {},
   "outputs": [
    {
     "name": "stdout",
     "output_type": "stream",
     "text": [
      "+-------------------------------------+\n",
      "| u.user_id  | u.name                 |\n",
      "+-------------------------------------+\n",
      "| \"6524431\"  | \"'Ley\"                 |\n",
      "| \"8026901\"  | \"(We Are) Bonnie & Ky\" |\n",
      "| \"7802424\"  | \"(email hidden)\"       |\n",
      "| \"12694638\" | \"(email hidden)\"       |\n",
      "| \"12694638\" | \"(email hidden)\"       |\n",
      "| \"5164376\"  | \"(email hidden)\"       |\n",
      "| \"13381969\" | \"(email hidden)\"       |\n",
      "| \"7802424\"  | \"(email hidden)\"       |\n",
      "| \"11656027\" | \"(email hidden)\"       |\n",
      "| \"15315643\" | \"(email hidden)\"       |\n",
      "+-------------------------------------+\n",
      "\n",
      "10 rows available after 83 ms, consumed after another 241 ms\n"
     ]
    }
   ],
   "source": [
    "!{CONNECT} \"MATCH (u:User)-[:WROTE]->(r:Review)-[:REVIEWS]-> (l:Listing)-[:HAS]->(a:Amenity) where a.name='Washer' MATCH (l:Listing)-[:HAS]->(b:Amenity) where b.name='Washer'  return u.user_id, u.name order by u.name limit 10\"\n"
   ]
  },
  {
   "cell_type": "code",
   "execution_count": 88,
   "id": "understood-determination",
   "metadata": {},
   "outputs": [
    {
     "name": "stdout",
     "output_type": "stream",
     "text": [
      "+-------+\n",
      "| a | b |\n",
      "+-------+\n",
      "+-------+\n",
      "\n",
      "0 rows available after 73 ms, consumed after another 0 ms\n"
     ]
    }
   ],
   "source": [
    "!{CONNECT} \"MATCH (a: Amenity{{ name: 'Washer'}}) <- [:HAS] -  (l: Listing) - [:HAS] -> (b: Amenity{{name: 'Dryer'}})<-[:HAS]-(r:Review) return a,b \""
   ]
  },
  {
   "cell_type": "markdown",
   "id": "pharmaceutical-nudist",
   "metadata": {},
   "source": [
    "### Q5. Which listings have 3 bedrooms and are located in the Clarksville neighborhood? Return the listing name, property_type, price, and availability_365 sorted by price. Limit the results to 5.\n"
   ]
  },
  {
   "cell_type": "code",
   "execution_count": 44,
   "id": "checked-berkeley",
   "metadata": {},
   "outputs": [
    {
     "name": "stdout",
     "output_type": "stream",
     "text": [
      "+----------------------------------------------------------------------------------------+\n",
      "| l.name                                | l.property_type | l.price | l.availability_365 |\n",
      "+----------------------------------------------------------------------------------------+\n",
      "| \"private bedroom in shared apartment\" | \"Apartment\"     | 30.0    | 41                 |\n",
      "| \"Cozy Retreat Near Downtown\"          | \"Apartment\"     | 39.0    | 363                |\n",
      "| \"Share Our Apartment in West Austin!\" | \"Apartment\"     | 45.0    | 98                 |\n",
      "| \"Cozy Room in Perfect Area!\"          | \"House\"         | 45.0    | 340                |\n",
      "| \"Retro Central Austin Suite\"          | \"House\"         | 48.0    | 53                 |\n",
      "+----------------------------------------------------------------------------------------+\n",
      "\n",
      "5 rows available after 49 ms, consumed after another 3 ms\n"
     ]
    }
   ],
   "source": [
    "!{CONNECT} \"MATCH (l:Listing)-[:IN_NEIGHBORHOOD]->(n:Neighborhood) where n.name ='Clarksville' return l.name, l.property_type, l.price, l.availability_365 order by l.price limit 5\""
   ]
  },
  {
   "cell_type": "markdown",
   "id": "positive-briefs",
   "metadata": {},
   "source": [
    "### Q6. Which amenities are the most common? Return the name of the amenity and its frequency. Sort the results by count in descending order. Limit the results to 5."
   ]
  },
  {
   "cell_type": "code",
   "execution_count": 45,
   "id": "herbal-swedish",
   "metadata": {},
   "outputs": [
    {
     "name": "stdout",
     "output_type": "stream",
     "text": [
      "+--------------------------------+\n",
      "| a.name              | count(*) |\n",
      "+--------------------------------+\n",
      "| \"Internet\"          | 1        |\n",
      "| \"Wireless Internet\" | 1        |\n",
      "| \"Air Conditioning\"  | 1        |\n",
      "| \"Kitchen\"           | 1        |\n",
      "| \"Cable TV\"          | 1        |\n",
      "+--------------------------------+\n",
      "\n",
      "5 rows available after 31 ms, consumed after another 2 ms\n"
     ]
    }
   ],
   "source": [
    "!{CONNECT} \"MATCH (a:Amenity) RETURN a.name, count(*)  ORDER BY count(*) DESC LIMIT 5\""
   ]
  },
  {
   "cell_type": "markdown",
   "id": "circular-anaheim",
   "metadata": {},
   "source": [
    "### Q7. Which neighborhoods have the highest number of listings? Return the neighborhood’s name and zip code (neighborhood_id) along with the number of listings they have sorted by the number of listings in descending order. Limit the results to 5."
   ]
  },
  {
   "cell_type": "code",
   "execution_count": 51,
   "id": "pretty-angel",
   "metadata": {},
   "outputs": [
    {
     "name": "stdout",
     "output_type": "stream",
     "text": [
      "+-------------------------------------------------+\n",
      "| n.name           | n.neighborhood_id | count(l) |\n",
      "+-------------------------------------------------+\n",
      "| NULL             | \"78704\"           | 1601     |\n",
      "| NULL             | \"78702\"           | 797      |\n",
      "| \"Clarksville\"    | \"78703\"           | 419      |\n",
      "| \"East Riverside\" | \"78741\"           | 414      |\n",
      "| NULL             | \"78745\"           | 328      |\n",
      "+-------------------------------------------------+\n",
      "\n",
      "5 rows available after 38 ms, consumed after another 36 ms\n"
     ]
    }
   ],
   "source": [
    "!{CONNECT} \"MATCH (l:Listing)-[:IN_NEIGHBORHOOD]->(n:Neighborhood) RETURN n.name, n.neighborhood_id, count(l) ORDER BY count(l) DESC LIMIT 5\""
   ]
  }
 ],
 "metadata": {
  "environment": {
   "name": "common-cpu.mnightly-2021-02-02-debian-10-test",
   "type": "gcloud",
   "uri": "gcr.io/deeplearning-platform-release/base-cpu:mnightly-2021-02-02-debian-10-test"
  },
  "kernelspec": {
   "display_name": "Python 3",
   "language": "python",
   "name": "python3"
  },
  "language_info": {
   "codemirror_mode": {
    "name": "ipython",
    "version": 3
   },
   "file_extension": ".py",
   "mimetype": "text/x-python",
   "name": "python",
   "nbconvert_exporter": "python",
   "pygments_lexer": "ipython3",
   "version": "3.7.9"
  }
 },
 "nbformat": 4,
 "nbformat_minor": 5
}
