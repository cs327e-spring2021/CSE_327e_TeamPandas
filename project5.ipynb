{
 "cells": [
  {
   "cell_type": "code",
   "execution_count": 1,
   "metadata": {
    "id": "b5a1TpGRLOYn"
   },
   "outputs": [
    {
     "name": "stdout",
     "output_type": "stream",
     "text": [
      "Copying gs://cs327e-open-access/open_foods.zip...\n",
      "==> NOTE: You are downloading one or more large file(s), which would            \n",
      "run significantly faster if you enabled sliced object downloads. This\n",
      "feature is enabled by default but requires that compiled crcmod be\n",
      "installed (see \"gsutil help crcmod\").\n",
      "\n",
      "/ [1 files][707.9 MiB/707.9 MiB]                                                \n",
      "Operation completed over 1 objects/707.9 MiB.                                    \n"
     ]
    }
   ],
   "source": [
    "!gsutil cp gs://cs327e-open-access/open_foods.zip ."
   ]
  },
  {
   "cell_type": "code",
   "execution_count": 2,
   "metadata": {
    "id": "7R3aD8n_LjPd"
   },
   "outputs": [
    {
     "name": "stdout",
     "output_type": "stream",
     "text": [
      "Archive:  open_foods.zip\n",
      "   creating: dump/\n",
      "   creating: dump/open_food/\n",
      "  inflating: dump/open_food/products.metadata.json  \n",
      "  inflating: dump/open_food/products.bson  \n",
      "   creating: dump/.ipynb_checkpoints/\n"
     ]
    }
   ],
   "source": [
    "!unzip open_foods.zip\n"
   ]
  },
  {
   "cell_type": "code",
   "execution_count": 3,
   "metadata": {
    "id": "T82zN__1LlG-"
   },
   "outputs": [
    {
     "name": "stdout",
     "output_type": "stream",
     "text": [
      "2021-03-25T00:34:59.400+0000\tchecking for collection data in dump/open_food/products.bson\n",
      "2021-03-25T00:34:59.401+0000\treading metadata for open_food.products from dump/open_food/products.metadata.json\n",
      "2021-03-25T00:35:00.796+0000\trestoring open_food.products from dump/open_food/products.bson\n",
      "2021-03-25T00:35:02.399+0000\t[###.....................]  open_food.products  731MB/4.97GB  (14.4%)\n",
      "2021-03-25T00:35:05.399+0000\t[######..................]  open_food.products  1.30GB/4.97GB  (26.1%)\n",
      "2021-03-25T00:35:08.399+0000\t[########................]  open_food.products  1.78GB/4.97GB  (35.9%)\n",
      "2021-03-25T00:35:11.399+0000\t[##########..............]  open_food.products  2.21GB/4.97GB  (44.4%)\n",
      "2021-03-25T00:35:14.400+0000\t[############............]  open_food.products  2.62GB/4.97GB  (52.7%)\n",
      "2021-03-25T00:35:17.399+0000\t[###############.........]  open_food.products  3.23GB/4.97GB  (65.0%)\n",
      "2021-03-25T00:35:20.399+0000\t[##################......]  open_food.products  3.88GB/4.97GB  (78.0%)\n",
      "2021-03-25T00:35:23.400+0000\t[#####################...]  open_food.products  4.49GB/4.97GB  (90.3%)\n",
      "2021-03-25T00:35:26.399+0000\t[#####################...]  open_food.products  4.52GB/4.97GB  (90.9%)\n",
      "2021-03-25T00:35:29.399+0000\t[#######################.]  open_food.products  4.96GB/4.97GB  (99.9%)\n",
      "2021-03-25T00:35:31.741+0000\t[########################]  open_food.products  4.97GB/4.97GB  (100.0%)\n",
      "2021-03-25T00:35:31.741+0000\trestoring indexes for collection open_food.products from metadata\n",
      "2021-03-25T00:38:14.581+0000\tfinished restoring open_food.products (309370 documents, 0 failures)\n",
      "2021-03-25T00:38:14.581+0000\t309370 document(s) restored successfully. 0 document(s) failed to restore.\n"
     ]
    }
   ],
   "source": [
    "!mongorestore -d open_food -c products dump/open_food/products.bson"
   ]
  },
  {
   "cell_type": "markdown",
   "metadata": {
    "id": "wq3VxmweL4w_"
   },
   "source": [
    "Q1"
   ]
  },
  {
   "cell_type": "code",
   "execution_count": 1,
   "metadata": {
    "id": "3Yh_AFOOLosn"
   },
   "outputs": [
    {
     "name": "stdout",
     "output_type": "stream",
     "text": [
      "309370\n"
     ]
    }
   ],
   "source": [
    "!mongo open_food --quiet --eval 'db.products.count()'"
   ]
  },
  {
   "cell_type": "markdown",
   "metadata": {
    "id": "jT17QEhmL8pO"
   },
   "source": [
    "Q2"
   ]
  },
  {
   "cell_type": "code",
   "execution_count": 2,
   "metadata": {
    "id": "sG9edosSL-C4"
   },
   "outputs": [
    {
     "name": "stdout",
     "output_type": "stream",
     "text": [
      "{ \"_id\" : \"0071720007105\", \"product_name\" : \"Tootsie Roll\" }\n"
     ]
    }
   ],
   "source": [
    "!mongo open_food --quiet --eval \"db.products.find({categories: 'Snacks, Sweet snacks, Confectioneries, Candies, Chews'}, {product_name: 1})\""
   ]
  },
  {
   "cell_type": "markdown",
   "metadata": {
    "id": "YzT1uDGWQAjx"
   },
   "source": [
    "Q3"
   ]
  },
  {
   "cell_type": "code",
   "execution_count": 3,
   "metadata": {
    "id": "ftznT6mUQBVR"
   },
   "outputs": [
    {
     "name": "stdout",
     "output_type": "stream",
     "text": [
      "{ \"_id\" : \"0852909003299\", \"product_name\" : \"Almondmilk\", \"code\" : \"0852909003299\" }\n",
      "{ \"_id\" : \"0840423102055\", \"code\" : \"0840423102055\", \"product_name\" : \"Garlic wine pasta with chicken meatballs with whole wheat rotini, white beans, and greens, cooked in avocado oil, and topped with parmesan and mozzarella, garlic wine pasta with chicken meatballs\" }\n"
     ]
    }
   ],
   "source": [
    "!mongo open_food --quiet --eval 'db.products.find({last_modified_t: {$gte : 1601856000} }, {code:1 , product_name:1})'"
   ]
  },
  {
   "cell_type": "markdown",
   "metadata": {
    "id": "Rppy90ntQhJe"
   },
   "source": [
    "Q4"
   ]
  },
  {
   "cell_type": "code",
   "execution_count": 4,
   "metadata": {
    "id": "WWySbLwIQhu2"
   },
   "outputs": [
    {
     "name": "stdout",
     "output_type": "stream",
     "text": [
      "115\n"
     ]
    }
   ],
   "source": [
    "\n",
    "!mongo open_food --quiet --eval 'db.products.find( { packaging: \"Plastic\" } ).count()'"
   ]
  },
  {
   "cell_type": "markdown",
   "metadata": {},
   "source": [
    "Q5\n"
   ]
  },
  {
   "cell_type": "code",
   "execution_count": 5,
   "metadata": {},
   "outputs": [
    {
     "name": "stdout",
     "output_type": "stream",
     "text": [
      "{ \"_id\" : \"0099482455859\", \"creator\" : \"usda-ndb-import\", \"brands\" : \"365 Everyday Value,Whole Foods Market  Inc.\", \"code\" : \"0099482455859\", \"product_name\" : \"Whole Wheat Bread\" }\n"
     ]
    }
   ],
   "source": [
    "!mongo open_food --quiet --eval \"db.products.find({manufacturing_places: 'Austin, TX', stores: 'Whole Foods'}, {code:1, creator:1, brands:1, product_name: 1})\""
   ]
  },
  {
   "cell_type": "markdown",
   "metadata": {},
   "source": [
    "Q6"
   ]
  },
  {
   "cell_type": "code",
   "execution_count": 6,
   "metadata": {},
   "outputs": [
    {
     "name": "stdout",
     "output_type": "stream",
     "text": [
      "{ \"_id\" : \"00547352\", \"product_name\" : \"Organic roasted vegetable pizza\", \"creator\" : \"djfkzz\", \"brands\" : \"Trader Joes\" }\n",
      "{ \"_id\" : \"00556903\", \"brands\" : \"Trader Joes\", \"creator\" : \"djfkzz\", \"product_name\" : \"Thai Sweet Chili Veggie Burger\" }\n",
      "{ \"_id\" : \"00508285\", \"product_name\" : \"Trader joes, sriracha sauce\", \"brands\" : \"Trader Joes\", \"creator\" : \"usda-ndb-import\" }\n"
     ]
    }
   ],
   "source": [
    "!mongo open_food --quiet --eval \"db.products.find({brands: 'Trader Joes', product_name: {\\$exists:true} }, { creator:1, product_name:1, brands:1}).sort({product_name:1})\""
   ]
  },
  {
   "cell_type": "markdown",
   "metadata": {},
   "source": [
    "Q7\n"
   ]
  },
  {
   "cell_type": "code",
   "execution_count": 7,
   "metadata": {},
   "outputs": [
    {
     "name": "stdout",
     "output_type": "stream",
     "text": [
      "{ \"_id\" : \"0040000265252\", \"brands\" : \"Mars\", \"product_name\" : \"Almond & dark chocolate\" }\n",
      "{ \"_id\" : \"0040000422068\", \"brands\" : \"mars\", \"product_name\" : \"BAR\" }\n",
      "{ \"_id\" : \"0047677386518\", \"brands\" : \"m&m's\", \"product_name\" : \"M&m's, light ice cream, chocolate\" }\n",
      "{ \"_id\" : \"0044000029524\", \"product_name\" : \"Nabisco oreo cookies double stuf 1x4.1 oz\", \"brands\" : \"oreo\" }\n",
      "{ \"_id\" : \"04005108\", \"product_name\" : \"Real fruit juice!\", \"brands\" : \"starburst\" }\n"
     ]
    }
   ],
   "source": [
    "!mongo open_food --quiet --eval \"db.products.find({ \\$or: [{brands: 'm&m\\u0027s'}, {brands:'mars'}, {brands:'Mars'}, {brands:'oreo'}, {brands:'starburst'}]}, { product_name:1, brands:1}).sort({product_name:1}).limit(5)\""
   ]
  },
  {
   "cell_type": "markdown",
   "metadata": {},
   "source": [
    "**Insert** a new document into the products collection. The document must have a\n",
    "minimum of 5 attributes with non-NULL values. Read back the document you just\n",
    "created"
   ]
  },
  {
   "cell_type": "code",
   "execution_count": 14,
   "metadata": {},
   "outputs": [
    {
     "name": "stdout",
     "output_type": "stream",
     "text": [
      "WriteResult({ \"nInserted\" : 1 })\n"
     ]
    }
   ],
   "source": [
    "doc='{brands: \"Trader Joes\", code: \"3017620422003\", creator: \"Ferrero Rocher\",  product_name:\"Nutella\", packaging:\"Verre, Couvercle, Plastique, Pot, Opercule, Plaque en carton\"}'\n",
    "!mongo open_food --quiet --eval 'db.products.insert({doc})'"
   ]
  },
  {
   "cell_type": "code",
   "execution_count": 43,
   "metadata": {},
   "outputs": [
    {
     "name": "stdout",
     "output_type": "stream",
     "text": [
      "{ \"_id\" : ObjectId(\"605d3ed716e97d4cda9ba031\"), \"brands\" : \"Trader Joes\", \"code\" : \"3017620422003\", \"creator\" : \"Ferrero Rocher\", \"product_name\" : \"Nutella\", \"packaging\" : \"Verre, Couvercle, Plastique, Pot, Opercule, Plaque en carton\" }\n"
     ]
    }
   ],
   "source": [
    "!mongo open_food --quiet --eval 'db.products.find({brands: \"Trader Joes\", code: \"3017620422003\", creator: \"Ferrero Rocher\",  product_name:\"Nutella\", packaging:\"Verre, Couvercle, Plastique, Pot, Opercule, Plaque en carton\"})'"
   ]
  },
  {
   "cell_type": "markdown",
   "metadata": {},
   "source": [
    "**Update** the document you created in the previous step and then read it back"
   ]
  },
  {
   "cell_type": "code",
   "execution_count": 53,
   "metadata": {},
   "outputs": [
    {
     "name": "stdout",
     "output_type": "stream",
     "text": [
      "WriteResult({ \"nMatched\" : 1, \"nUpserted\" : 0, \"nModified\" : 1 })\n"
     ]
    }
   ],
   "source": [
    "# update \n",
    "!mongo open_food --quiet --eval 'db.products.update({brands: \"Trader Joes\", code: \"3017620422003\", creator: \"Ferrero Rocher\",  product_name:\"Nutella\", packaging:\"Verre, Couvercle, Plastique, Pot, Opercule, Plaque en carton\"}, {brands: \"ferrero\", code: \"3017620422003\", creator: \"Ferrero Rocher\",  product_name:\"Nutella\", packaging:\"Verre, Couvercle, Plastique, Pot, Opercule, Plaque en carton\"})'"
   ]
  },
  {
   "cell_type": "code",
   "execution_count": 54,
   "metadata": {},
   "outputs": [
    {
     "name": "stdout",
     "output_type": "stream",
     "text": [
      "{ \"_id\" : ObjectId(\"605d3ed716e97d4cda9ba031\"), \"brands\" : \"ferrero\", \"code\" : \"3017620422003\", \"creator\" : \"Ferrero Rocher\", \"product_name\" : \"Nutella\", \"packaging\" : \"Verre, Couvercle, Plastique, Pot, Opercule, Plaque en carton\" }\n"
     ]
    }
   ],
   "source": [
    "!mongo open_food --quiet --eval 'db.products.find({brands: \"ferrero\", code: \"3017620422003\", creator: \"Ferrero Rocher\",  product_name:\"Nutella\", packaging:\"Verre, Couvercle, Plastique, Pot, Opercule, Plaque en carton\"})'"
   ]
  },
  {
   "cell_type": "markdown",
   "metadata": {},
   "source": [
    "**Delete** the document you updated in the previous step and then query the collection to\n",
    "verify that it’s been deleted."
   ]
  },
  {
   "cell_type": "code",
   "execution_count": 55,
   "metadata": {},
   "outputs": [
    {
     "name": "stdout",
     "output_type": "stream",
     "text": [
      "WriteResult({ \"nRemoved\" : 1 })\n"
     ]
    }
   ],
   "source": [
    "!mongo open_food --quiet --eval \"db.products.remove({ '_id' : ObjectId('605d3ed716e97d4cda9ba031')});\""
   ]
  },
  {
   "cell_type": "code",
   "execution_count": null,
   "metadata": {},
   "outputs": [],
   "source": []
  }
 ],
 "metadata": {
  "colab": {
   "name": "mongo.ipynb",
   "provenance": []
  },
  "environment": {
   "name": "common-cpu.mnightly-2021-01-20-debian-10-test",
   "type": "gcloud",
   "uri": "gcr.io/deeplearning-platform-release/base-cpu:mnightly-2021-01-20-debian-10-test"
  },
  "kernelspec": {
   "display_name": "Python 3",
   "language": "python",
   "name": "python3"
  },
  "language_info": {
   "codemirror_mode": {
    "name": "ipython",
    "version": 3
   },
   "file_extension": ".py",
   "mimetype": "text/x-python",
   "name": "python",
   "nbconvert_exporter": "python",
   "pygments_lexer": "ipython3",
   "version": "3.7.9"
  }
 },
 "nbformat": 4,
 "nbformat_minor": 4
}
