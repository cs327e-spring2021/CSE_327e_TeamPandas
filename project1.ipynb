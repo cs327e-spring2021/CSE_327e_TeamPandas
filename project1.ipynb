{
 "cells": [
  {
   "cell_type": "code",
   "execution_count": 1,
   "id": "collaborative-technician",
   "metadata": {},
   "outputs": [
    {
     "name": "stdout",
     "output_type": "stream",
     "text": [
      "env: INSTANCE=mysql\n"
     ]
    }
   ],
   "source": [
    "%env INSTANCE=mysql"
   ]
  },
  {
   "cell_type": "code",
   "execution_count": 2,
   "id": "fifth-athens",
   "metadata": {},
   "outputs": [],
   "source": [
    "!mysql < /home/jupyter/sakila/sakila-database.sql\n",
    "!mysql < /home/jupyter/sakila/sakila-data.sql\n"
   ]
  },
  {
   "cell_type": "code",
   "execution_count": 3,
   "id": "german-crystal",
   "metadata": {},
   "outputs": [
    {
     "name": "stdout",
     "output_type": "stream",
     "text": [
      "+----------------------------+\n",
      "| Tables_in_sakila           |\n",
      "+----------------------------+\n",
      "| actor                      |\n",
      "| actor_info                 |\n",
      "| address                    |\n",
      "| category                   |\n",
      "| city                       |\n",
      "| country                    |\n",
      "| customer                   |\n",
      "| customer_list              |\n",
      "| film                       |\n",
      "| film_actor                 |\n",
      "| film_category              |\n",
      "| film_list                  |\n",
      "| film_text                  |\n",
      "| inventory                  |\n",
      "| language                   |\n",
      "| nicer_but_slower_film_list |\n",
      "| payment                    |\n",
      "| rental                     |\n",
      "| sales_by_film_category     |\n",
      "| sales_by_store             |\n",
      "| staff                      |\n",
      "| staff_list                 |\n",
      "| store                      |\n",
      "+----------------------------+\n"
     ]
    }
   ],
   "source": [
    "!mysql sakila -e \"show tables\""
   ]
  },
  {
   "cell_type": "markdown",
   "id": "academic-ceremony",
   "metadata": {},
   "source": [
    "## Get Row counts"
   ]
  },
  {
   "cell_type": "code",
   "execution_count": 4,
   "id": "identified-president",
   "metadata": {},
   "outputs": [
    {
     "name": "stdout",
     "output_type": "stream",
     "text": [
      "+----------+\n",
      "| count(*) |\n",
      "+----------+\n",
      "|      200 |\n",
      "+----------+\n"
     ]
    }
   ],
   "source": [
    "!mysql sakila -e \"select count(*) from actor\""
   ]
  },
  {
   "cell_type": "code",
   "execution_count": 5,
   "id": "altered-bristol",
   "metadata": {},
   "outputs": [
    {
     "name": "stdout",
     "output_type": "stream",
     "text": [
      "+----------+\n",
      "| count(*) |\n",
      "+----------+\n",
      "|      200 |\n",
      "+----------+\n"
     ]
    }
   ],
   "source": [
    "!mysql sakila -e \"select count(*) from actor_info\""
   ]
  },
  {
   "cell_type": "code",
   "execution_count": 6,
   "id": "divided-intermediate",
   "metadata": {},
   "outputs": [
    {
     "name": "stdout",
     "output_type": "stream",
     "text": [
      "+----------+\n",
      "| count(*) |\n",
      "+----------+\n",
      "|      603 |\n",
      "+----------+\n"
     ]
    }
   ],
   "source": [
    "!mysql sakila -e \"select count(*) from address\""
   ]
  },
  {
   "cell_type": "code",
   "execution_count": 7,
   "id": "available-chosen",
   "metadata": {},
   "outputs": [
    {
     "name": "stdout",
     "output_type": "stream",
     "text": [
      "+----------+\n",
      "| count(*) |\n",
      "+----------+\n",
      "|       16 |\n",
      "+----------+\n"
     ]
    }
   ],
   "source": [
    "!mysql sakila -e \"select count(*) from category\""
   ]
  },
  {
   "cell_type": "code",
   "execution_count": 8,
   "id": "genetic-scotland",
   "metadata": {},
   "outputs": [
    {
     "name": "stdout",
     "output_type": "stream",
     "text": [
      "+----------+\n",
      "| count(*) |\n",
      "+----------+\n",
      "|      600 |\n",
      "+----------+\n"
     ]
    }
   ],
   "source": [
    "!mysql sakila -e \"select count(*) from city\""
   ]
  },
  {
   "cell_type": "code",
   "execution_count": 9,
   "id": "vocational-professional",
   "metadata": {},
   "outputs": [
    {
     "name": "stdout",
     "output_type": "stream",
     "text": [
      "+----------+\n",
      "| count(*) |\n",
      "+----------+\n",
      "|      109 |\n",
      "+----------+\n"
     ]
    }
   ],
   "source": [
    "!mysql sakila -e \"select count(*) from country\""
   ]
  },
  {
   "cell_type": "code",
   "execution_count": 10,
   "id": "swiss-frederick",
   "metadata": {},
   "outputs": [
    {
     "name": "stdout",
     "output_type": "stream",
     "text": [
      "+----------+\n",
      "| count(*) |\n",
      "+----------+\n",
      "|      599 |\n",
      "+----------+\n"
     ]
    }
   ],
   "source": [
    "!mysql sakila -e \"select count(*) from customer\""
   ]
  },
  {
   "cell_type": "code",
   "execution_count": 11,
   "id": "critical-thriller",
   "metadata": {},
   "outputs": [
    {
     "name": "stdout",
     "output_type": "stream",
     "text": [
      "+----------+\n",
      "| count(*) |\n",
      "+----------+\n",
      "|      599 |\n",
      "+----------+\n"
     ]
    }
   ],
   "source": [
    "!mysql sakila -e \"select count(*) from customer_list\""
   ]
  },
  {
   "cell_type": "code",
   "execution_count": 12,
   "id": "confidential-applicant",
   "metadata": {},
   "outputs": [
    {
     "name": "stdout",
     "output_type": "stream",
     "text": [
      "+----------+\n",
      "| count(*) |\n",
      "+----------+\n",
      "|     1000 |\n",
      "+----------+\n"
     ]
    }
   ],
   "source": [
    "!mysql sakila -e \"select count(*) from film\""
   ]
  },
  {
   "cell_type": "code",
   "execution_count": 13,
   "id": "delayed-eugene",
   "metadata": {},
   "outputs": [
    {
     "name": "stdout",
     "output_type": "stream",
     "text": [
      "+----------+\n",
      "| count(*) |\n",
      "+----------+\n",
      "|     5462 |\n",
      "+----------+\n"
     ]
    }
   ],
   "source": [
    "!mysql sakila -e \"select count(*) from film_actor\""
   ]
  },
  {
   "cell_type": "code",
   "execution_count": 14,
   "id": "colonial-eugene",
   "metadata": {},
   "outputs": [
    {
     "name": "stdout",
     "output_type": "stream",
     "text": [
      "+----------+\n",
      "| count(*) |\n",
      "+----------+\n",
      "|     1000 |\n",
      "+----------+\n"
     ]
    }
   ],
   "source": [
    "!mysql sakila -e \"select count(*) from film_category\""
   ]
  },
  {
   "cell_type": "code",
   "execution_count": 15,
   "id": "compatible-travel",
   "metadata": {},
   "outputs": [
    {
     "name": "stdout",
     "output_type": "stream",
     "text": [
      "+----------+\n",
      "| count(*) |\n",
      "+----------+\n",
      "|      997 |\n",
      "+----------+\n"
     ]
    }
   ],
   "source": [
    "!mysql sakila -e \"select count(*) from film_list\""
   ]
  },
  {
   "cell_type": "code",
   "execution_count": 16,
   "id": "rubber-might",
   "metadata": {},
   "outputs": [
    {
     "name": "stdout",
     "output_type": "stream",
     "text": [
      "+----------+\n",
      "| count(*) |\n",
      "+----------+\n",
      "|     1000 |\n",
      "+----------+\n"
     ]
    }
   ],
   "source": [
    "!mysql sakila -e \"select count(*) from film_text\""
   ]
  },
  {
   "cell_type": "code",
   "execution_count": 17,
   "id": "musical-finish",
   "metadata": {},
   "outputs": [
    {
     "name": "stdout",
     "output_type": "stream",
     "text": [
      "+----------+\n",
      "| count(*) |\n",
      "+----------+\n",
      "|     4581 |\n",
      "+----------+\n"
     ]
    }
   ],
   "source": [
    "!mysql sakila -e \"select count(*) from inventory\""
   ]
  },
  {
   "cell_type": "code",
   "execution_count": 18,
   "id": "executive-hometown",
   "metadata": {},
   "outputs": [
    {
     "name": "stdout",
     "output_type": "stream",
     "text": [
      "+----------+\n",
      "| count(*) |\n",
      "+----------+\n",
      "|        6 |\n",
      "+----------+\n"
     ]
    }
   ],
   "source": [
    "!mysql sakila -e \"select count(*) from language\""
   ]
  },
  {
   "cell_type": "code",
   "execution_count": 19,
   "id": "immune-slovak",
   "metadata": {},
   "outputs": [
    {
     "name": "stdout",
     "output_type": "stream",
     "text": [
      "+----------+\n",
      "| count(*) |\n",
      "+----------+\n",
      "|      997 |\n",
      "+----------+\n"
     ]
    }
   ],
   "source": [
    "!mysql sakila -e \"select count(*) from nicer_but_slower_film_list\""
   ]
  },
  {
   "cell_type": "code",
   "execution_count": 20,
   "id": "incorporate-progress",
   "metadata": {},
   "outputs": [
    {
     "name": "stdout",
     "output_type": "stream",
     "text": [
      "+----------+\n",
      "| count(*) |\n",
      "+----------+\n",
      "|    16049 |\n",
      "+----------+\n"
     ]
    }
   ],
   "source": [
    "!mysql sakila -e \"select count(*) from payment\""
   ]
  },
  {
   "cell_type": "code",
   "execution_count": 21,
   "id": "outdoor-medium",
   "metadata": {},
   "outputs": [
    {
     "name": "stdout",
     "output_type": "stream",
     "text": [
      "+----------+\n",
      "| count(*) |\n",
      "+----------+\n",
      "|    16044 |\n",
      "+----------+\n"
     ]
    }
   ],
   "source": [
    "!mysql sakila -e \"select count(*) from rental\""
   ]
  },
  {
   "cell_type": "code",
   "execution_count": 22,
   "id": "limiting-facing",
   "metadata": {},
   "outputs": [
    {
     "name": "stdout",
     "output_type": "stream",
     "text": [
      "+----------+\n",
      "| count(*) |\n",
      "+----------+\n",
      "|       16 |\n",
      "+----------+\n"
     ]
    }
   ],
   "source": [
    "!mysql sakila -e \"select count(*) from sales_by_film_category\""
   ]
  },
  {
   "cell_type": "code",
   "execution_count": 23,
   "id": "brilliant-guard",
   "metadata": {},
   "outputs": [
    {
     "name": "stdout",
     "output_type": "stream",
     "text": [
      "+----------+\n",
      "| count(*) |\n",
      "+----------+\n",
      "|        2 |\n",
      "+----------+\n"
     ]
    }
   ],
   "source": [
    "!mysql sakila -e \"select count(*) from sales_by_store\""
   ]
  },
  {
   "cell_type": "code",
   "execution_count": 24,
   "id": "indonesian-impression",
   "metadata": {},
   "outputs": [
    {
     "name": "stdout",
     "output_type": "stream",
     "text": [
      "+----------+\n",
      "| count(*) |\n",
      "+----------+\n",
      "|        2 |\n",
      "+----------+\n"
     ]
    }
   ],
   "source": [
    "!mysql sakila -e \"select count(*) from staff\""
   ]
  },
  {
   "cell_type": "code",
   "execution_count": 25,
   "id": "square-circuit",
   "metadata": {},
   "outputs": [
    {
     "name": "stdout",
     "output_type": "stream",
     "text": [
      "+----------+\n",
      "| count(*) |\n",
      "+----------+\n",
      "|        2 |\n",
      "+----------+\n"
     ]
    }
   ],
   "source": [
    "!mysql sakila -e \"select count(*) from staff_list\""
   ]
  },
  {
   "cell_type": "code",
   "execution_count": 26,
   "id": "hollywood-range",
   "metadata": {},
   "outputs": [
    {
     "name": "stdout",
     "output_type": "stream",
     "text": [
      "+----------+\n",
      "| count(*) |\n",
      "+----------+\n",
      "|        2 |\n",
      "+----------+\n"
     ]
    }
   ],
   "source": [
    "!mysql sakila -e \"select count(*) from store\""
   ]
  },
  {
   "cell_type": "markdown",
   "id": "renewable-mortality",
   "metadata": {},
   "source": [
    "## Sample a few records from each table"
   ]
  },
  {
   "cell_type": "code",
   "execution_count": 27,
   "id": "first-characterization",
   "metadata": {},
   "outputs": [
    {
     "name": "stdout",
     "output_type": "stream",
     "text": [
      "+----------+------------+--------------+---------------------+\n",
      "| actor_id | first_name | last_name    | last_update         |\n",
      "+----------+------------+--------------+---------------------+\n",
      "|        1 | PENELOPE   | GUINESS      | 2006-02-15 04:34:33 |\n",
      "|        2 | NICK       | WAHLBERG     | 2006-02-15 04:34:33 |\n",
      "|        3 | ED         | CHASE        | 2006-02-15 04:34:33 |\n",
      "|        4 | JENNIFER   | DAVIS        | 2006-02-15 04:34:33 |\n",
      "|        5 | JOHNNY     | LOLLOBRIGIDA | 2006-02-15 04:34:33 |\n",
      "+----------+------------+--------------+---------------------+\n"
     ]
    }
   ],
   "source": [
    "!mysql sakila -e \"select * from actor limit 5\""
   ]
  },
  {
   "cell_type": "code",
   "execution_count": 28,
   "id": "powered-facial",
   "metadata": {},
   "outputs": [
    {
     "name": "stdout",
     "output_type": "stream",
     "text": [
      "+------------+\n",
      "| first_name |\n",
      "+------------+\n",
      "| PENELOPE   |\n",
      "| NICK       |\n",
      "| ED         |\n",
      "| JENNIFER   |\n",
      "| JOHNNY     |\n",
      "+------------+\n"
     ]
    }
   ],
   "source": [
    "!mysql sakila -e \"select first_name from actor_info limit 5\""
   ]
  },
  {
   "cell_type": "code",
   "execution_count": 29,
   "id": "closing-boutique",
   "metadata": {},
   "outputs": [
    {
     "name": "stdout",
     "output_type": "stream",
     "text": [
      "+----------+\n",
      "| district |\n",
      "+----------+\n",
      "| Alberta  |\n",
      "| QLD      |\n",
      "| Alberta  |\n",
      "| QLD      |\n",
      "| Nagasaki |\n",
      "+----------+\n"
     ]
    }
   ],
   "source": [
    "!mysql sakila -e \"select district from address limit 5\""
   ]
  },
  {
   "cell_type": "code",
   "execution_count": 30,
   "id": "conventional-charles",
   "metadata": {},
   "outputs": [
    {
     "name": "stdout",
     "output_type": "stream",
     "text": [
      "+-------------+-----------+---------------------+\n",
      "| category_id | name      | last_update         |\n",
      "+-------------+-----------+---------------------+\n",
      "|           1 | Action    | 2006-02-15 04:46:27 |\n",
      "|           2 | Animation | 2006-02-15 04:46:27 |\n",
      "|           3 | Children  | 2006-02-15 04:46:27 |\n",
      "|           4 | Classics  | 2006-02-15 04:46:27 |\n",
      "|           5 | Comedy    | 2006-02-15 04:46:27 |\n",
      "+-------------+-----------+---------------------+\n"
     ]
    }
   ],
   "source": [
    "!mysql sakila -e \"select * from category limit 5\""
   ]
  },
  {
   "cell_type": "code",
   "execution_count": 31,
   "id": "available-borough",
   "metadata": {},
   "outputs": [
    {
     "name": "stdout",
     "output_type": "stream",
     "text": [
      "+---------+--------------------+------------+---------------------+\n",
      "| city_id | city               | country_id | last_update         |\n",
      "+---------+--------------------+------------+---------------------+\n",
      "|       1 | A Corua (La Corua) |         87 | 2006-02-15 04:45:25 |\n",
      "|       2 | Abha               |         82 | 2006-02-15 04:45:25 |\n",
      "|       3 | Abu Dhabi          |        101 | 2006-02-15 04:45:25 |\n",
      "|       4 | Acua               |         60 | 2006-02-15 04:45:25 |\n",
      "|       5 | Adana              |         97 | 2006-02-15 04:45:25 |\n",
      "+---------+--------------------+------------+---------------------+\n"
     ]
    }
   ],
   "source": [
    "!mysql sakila -e \"select * from city limit 5\""
   ]
  },
  {
   "cell_type": "code",
   "execution_count": 32,
   "id": "elect-leeds",
   "metadata": {},
   "outputs": [
    {
     "name": "stdout",
     "output_type": "stream",
     "text": [
      "+------------+----------------+---------------------+\n",
      "| country_id | country        | last_update         |\n",
      "+------------+----------------+---------------------+\n",
      "|          1 | Afghanistan    | 2006-02-15 04:44:00 |\n",
      "|          2 | Algeria        | 2006-02-15 04:44:00 |\n",
      "|          3 | American Samoa | 2006-02-15 04:44:00 |\n",
      "|          4 | Angola         | 2006-02-15 04:44:00 |\n",
      "|          5 | Anguilla       | 2006-02-15 04:44:00 |\n",
      "+------------+----------------+---------------------+\n"
     ]
    }
   ],
   "source": [
    "!mysql sakila -e \"select * from country limit 5\""
   ]
  },
  {
   "cell_type": "code",
   "execution_count": 33,
   "id": "taken-alberta",
   "metadata": {},
   "outputs": [
    {
     "name": "stdout",
     "output_type": "stream",
     "text": [
      "+------------+-------------------------------------+\n",
      "| first_name | email                               |\n",
      "+------------+-------------------------------------+\n",
      "| MARY       | MARY.SMITH@sakilacustomer.org       |\n",
      "| PATRICIA   | PATRICIA.JOHNSON@sakilacustomer.org |\n",
      "| LINDA      | LINDA.WILLIAMS@sakilacustomer.org   |\n",
      "| BARBARA    | BARBARA.JONES@sakilacustomer.org    |\n",
      "| ELIZABETH  | ELIZABETH.BROWN@sakilacustomer.org  |\n",
      "+------------+-------------------------------------+\n"
     ]
    }
   ],
   "source": [
    "!mysql sakila -e \"select first_name,email from customer limit 5\""
   ]
  },
  {
   "cell_type": "code",
   "execution_count": 34,
   "id": "spoken-beijing",
   "metadata": {},
   "outputs": [
    {
     "name": "stdout",
     "output_type": "stream",
     "text": [
      "+-----+--------+----------------+\n",
      "| SID | city   | name           |\n",
      "+-----+--------+----------------+\n",
      "|   1 | Kabul  | VERA MCCOY     |\n",
      "|   1 | Batna  | MARIO CHEATHAM |\n",
      "|   2 | Bchar  | JUDY GRAY      |\n",
      "|   1 | Skikda | JUNE CARROLL   |\n",
      "|   2 | Tafuna | ANTHONY SCHWAB |\n",
      "+-----+--------+----------------+\n"
     ]
    }
   ],
   "source": [
    "!mysql sakila -e \"select SID,city,name from customer_list limit 5\""
   ]
  },
  {
   "cell_type": "code",
   "execution_count": 35,
   "id": "educated-think",
   "metadata": {},
   "outputs": [
    {
     "name": "stdout",
     "output_type": "stream",
     "text": [
      "+----------------+--------+\n",
      "| title          | length |\n",
      "+----------------+--------+\n",
      "| DARN FORRESTER |    185 |\n",
      "| HOME PITY      |    185 |\n",
      "| CHICAGO NORTH  |    185 |\n",
      "| GANGS PRIDE    |    185 |\n",
      "| CONTROL ANTHEM |    185 |\n",
      "+----------------+--------+\n"
     ]
    }
   ],
   "source": [
    "!mysql sakila -e \"select title,length from film where length > 120 order by length desc limit 5\""
   ]
  },
  {
   "cell_type": "code",
   "execution_count": 36,
   "id": "functioning-moldova",
   "metadata": {},
   "outputs": [
    {
     "name": "stdout",
     "output_type": "stream",
     "text": [
      "+----------+---------+---------------------+\n",
      "| actor_id | film_id | last_update         |\n",
      "+----------+---------+---------------------+\n",
      "|        1 |       1 | 2006-02-15 05:05:03 |\n",
      "|        1 |      23 | 2006-02-15 05:05:03 |\n",
      "|        1 |      25 | 2006-02-15 05:05:03 |\n",
      "|        1 |     106 | 2006-02-15 05:05:03 |\n",
      "|        1 |     140 | 2006-02-15 05:05:03 |\n",
      "+----------+---------+---------------------+\n"
     ]
    }
   ],
   "source": [
    "!mysql sakila -e \"select * from film_actor limit 5\""
   ]
  },
  {
   "cell_type": "code",
   "execution_count": 37,
   "id": "annual-holmes",
   "metadata": {},
   "outputs": [
    {
     "name": "stdout",
     "output_type": "stream",
     "text": [
      "+---------+-------------+---------------------+\n",
      "| film_id | category_id | last_update         |\n",
      "+---------+-------------+---------------------+\n",
      "|       1 |           6 | 2006-02-15 05:07:09 |\n",
      "|       2 |          11 | 2006-02-15 05:07:09 |\n",
      "|       3 |           6 | 2006-02-15 05:07:09 |\n",
      "|       4 |          11 | 2006-02-15 05:07:09 |\n",
      "|       5 |           8 | 2006-02-15 05:07:09 |\n",
      "+---------+-------------+---------------------+\n"
     ]
    }
   ],
   "source": [
    "!mysql sakila -e \"select * from film_category limit 5\""
   ]
  },
  {
   "cell_type": "code",
   "execution_count": 38,
   "id": "residential-rainbow",
   "metadata": {},
   "outputs": [
    {
     "name": "stdout",
     "output_type": "stream",
     "text": [
      "+------------------+-------+\n",
      "| title            | price |\n",
      "+------------------+-------+\n",
      "| ACADEMY DINOSAUR |  0.99 |\n",
      "| ACE GOLDFINGER   |  4.99 |\n",
      "| ADAPTATION HOLES |  2.99 |\n",
      "| AFFAIR PREJUDICE |  2.99 |\n",
      "| AFRICAN EGG      |  2.99 |\n",
      "+------------------+-------+\n"
     ]
    }
   ],
   "source": [
    "!mysql sakila -e \"select title,price from film_list limit 5\""
   ]
  },
  {
   "cell_type": "code",
   "execution_count": 39,
   "id": "therapeutic-tragedy",
   "metadata": {},
   "outputs": [
    {
     "name": "stdout",
     "output_type": "stream",
     "text": [
      "+-------------------+\n",
      "| title             |\n",
      "+-------------------+\n",
      "| ZORRO ARK         |\n",
      "| ZOOLANDER FICTION |\n",
      "| ZHIVAGO CORE      |\n",
      "| YOUTH KICK        |\n",
      "| YOUNG LANGUAGE    |\n",
      "+-------------------+\n"
     ]
    }
   ],
   "source": [
    "!mysql sakila -e \"select title from film_text order by title desc limit 5\""
   ]
  },
  {
   "cell_type": "code",
   "execution_count": 40,
   "id": "important-drunk",
   "metadata": {},
   "outputs": [
    {
     "name": "stdout",
     "output_type": "stream",
     "text": [
      "+--------------+---------+----------+---------------------+\n",
      "| inventory_id | film_id | store_id | last_update         |\n",
      "+--------------+---------+----------+---------------------+\n",
      "|            1 |       1 |        1 | 2006-02-15 05:09:17 |\n",
      "|            2 |       1 |        1 | 2006-02-15 05:09:17 |\n",
      "|            3 |       1 |        1 | 2006-02-15 05:09:17 |\n",
      "|            4 |       1 |        1 | 2006-02-15 05:09:17 |\n",
      "|            5 |       1 |        2 | 2006-02-15 05:09:17 |\n",
      "+--------------+---------+----------+---------------------+\n"
     ]
    }
   ],
   "source": [
    "!mysql sakila -e \"select * from inventory limit 5\""
   ]
  },
  {
   "cell_type": "code",
   "execution_count": 41,
   "id": "adequate-sapphire",
   "metadata": {},
   "outputs": [
    {
     "name": "stdout",
     "output_type": "stream",
     "text": [
      "+-------------+----------+---------------------+\n",
      "| language_id | name     | last_update         |\n",
      "+-------------+----------+---------------------+\n",
      "|           6 | German   | 2006-02-15 05:02:19 |\n",
      "|           5 | French   | 2006-02-15 05:02:19 |\n",
      "|           4 | Mandarin | 2006-02-15 05:02:19 |\n",
      "|           3 | Japanese | 2006-02-15 05:02:19 |\n",
      "|           2 | Italian  | 2006-02-15 05:02:19 |\n",
      "+-------------+----------+---------------------+\n"
     ]
    }
   ],
   "source": [
    "!mysql sakila -e \"select * from language order by language_id desc limit 5\""
   ]
  },
  {
   "cell_type": "code",
   "execution_count": 42,
   "id": "physical-hanging",
   "metadata": {},
   "outputs": [
    {
     "name": "stdout",
     "output_type": "stream",
     "text": [
      "+------------------+--------+\n",
      "| title            | rating |\n",
      "+------------------+--------+\n",
      "| ADAPTATION HOLES | NC-17  |\n",
      "| ALADDIN CALENDAR | NC-17  |\n",
      "| ALICE FANTASIA   | NC-17  |\n",
      "| ALIEN CENTER     | NC-17  |\n",
      "| ALLEY EVOLUTION  | NC-17  |\n",
      "+------------------+--------+\n"
     ]
    }
   ],
   "source": [
    "!mysql sakila -e \"select title,rating from nicer_but_slower_film_list order by rating desc limit 5\""
   ]
  },
  {
   "cell_type": "code",
   "execution_count": 43,
   "id": "moved-insertion",
   "metadata": {},
   "outputs": [
    {
     "name": "stdout",
     "output_type": "stream",
     "text": [
      "+------------+-------------+----------+-----------+--------+---------------------+---------------------+\n",
      "| payment_id | customer_id | staff_id | rental_id | amount | payment_date        | last_update         |\n",
      "+------------+-------------+----------+-----------+--------+---------------------+---------------------+\n",
      "|          1 |           1 |        1 |        76 |   2.99 | 2005-05-25 11:30:37 | 2006-02-15 22:12:30 |\n",
      "|          2 |           1 |        1 |       573 |   0.99 | 2005-05-28 10:35:23 | 2006-02-15 22:12:30 |\n",
      "|          3 |           1 |        1 |      1185 |   5.99 | 2005-06-15 00:54:12 | 2006-02-15 22:12:30 |\n",
      "|          4 |           1 |        2 |      1422 |   0.99 | 2005-06-15 18:02:53 | 2006-02-15 22:12:30 |\n",
      "|          5 |           1 |        2 |      1476 |   9.99 | 2005-06-15 21:08:46 | 2006-02-15 22:12:30 |\n",
      "+------------+-------------+----------+-----------+--------+---------------------+---------------------+\n"
     ]
    }
   ],
   "source": [
    "!mysql sakila -e \"select * from payment limit 5\""
   ]
  },
  {
   "cell_type": "code",
   "execution_count": 44,
   "id": "expected-multimedia",
   "metadata": {},
   "outputs": [
    {
     "name": "stdout",
     "output_type": "stream",
     "text": [
      "+-----------+----------+\n",
      "| rental_id | staff_id |\n",
      "+-----------+----------+\n",
      "|         1 |        1 |\n",
      "|         2 |        1 |\n",
      "|         3 |        1 |\n",
      "|         5 |        1 |\n",
      "|         6 |        1 |\n",
      "+-----------+----------+\n"
     ]
    }
   ],
   "source": [
    "!mysql sakila -e \"select rental_id,staff_id from rental where staff_id < 2 limit 5\""
   ]
  },
  {
   "cell_type": "code",
   "execution_count": 45,
   "id": "fossil-disney",
   "metadata": {},
   "outputs": [
    {
     "name": "stdout",
     "output_type": "stream",
     "text": [
      "+----------+-------------+\n",
      "| category | total_sales |\n",
      "+----------+-------------+\n",
      "| Music    |     3417.72 |\n",
      "| Travel   |     3549.64 |\n",
      "| Classics |     3639.59 |\n",
      "| Children |     3655.55 |\n",
      "| Horror   |     3722.54 |\n",
      "+----------+-------------+\n"
     ]
    }
   ],
   "source": [
    "!mysql sakila -e \"select * from sales_by_film_category order by total_sales limit 5\""
   ]
  },
  {
   "cell_type": "code",
   "execution_count": 46,
   "id": "civic-functionality",
   "metadata": {},
   "outputs": [
    {
     "name": "stdout",
     "output_type": "stream",
     "text": [
      "+---------------------+--------------+-------------+\n",
      "| store               | manager      | total_sales |\n",
      "+---------------------+--------------+-------------+\n",
      "| Woodridge,Australia | Jon Stephens |    33726.77 |\n",
      "| Lethbridge,Canada   | Mike Hillyer |    33679.79 |\n",
      "+---------------------+--------------+-------------+\n"
     ]
    }
   ],
   "source": [
    "!mysql sakila -e \"select * from sales_by_store\""
   ]
  },
  {
   "cell_type": "code",
   "execution_count": 47,
   "id": "compressed-accused",
   "metadata": {},
   "outputs": [
    {
     "name": "stdout",
     "output_type": "stream",
     "text": [
      "+------------+\n",
      "| first_name |\n",
      "+------------+\n",
      "| Mike       |\n",
      "| Jon        |\n",
      "+------------+\n"
     ]
    }
   ],
   "source": [
    "!mysql sakila -e \"select first_name from staff limit 5\""
   ]
  },
  {
   "cell_type": "code",
   "execution_count": 48,
   "id": "exotic-cache",
   "metadata": {},
   "outputs": [
    {
     "name": "stdout",
     "output_type": "stream",
     "text": [
      "+----+--------------+----------------------+----------+-------------+------------+-----------+-----+\n",
      "| ID | name         | address              | zip code | phone       | city       | country   | SID |\n",
      "+----+--------------+----------------------+----------+-------------+------------+-----------+-----+\n",
      "|  2 | Jon Stephens | 1411 Lillydale Drive |          | 6172235589  | Woodridge  | Australia |   2 |\n",
      "|  1 | Mike Hillyer | 23 Workhaven Lane    |          | 14033335568 | Lethbridge | Canada    |   1 |\n",
      "+----+--------------+----------------------+----------+-------------+------------+-----------+-----+\n"
     ]
    }
   ],
   "source": [
    "!mysql sakila -e \"select * from staff_list order by city desc\""
   ]
  },
  {
   "cell_type": "code",
   "execution_count": 49,
   "id": "broad-distribution",
   "metadata": {},
   "outputs": [
    {
     "name": "stdout",
     "output_type": "stream",
     "text": [
      "+----------+------------------+------------+---------------------+\n",
      "| store_id | manager_staff_id | address_id | last_update         |\n",
      "+----------+------------------+------------+---------------------+\n",
      "|        1 |                1 |          1 | 2006-02-15 04:57:12 |\n",
      "|        2 |                2 |          2 | 2006-02-15 04:57:12 |\n",
      "+----------+------------------+------------+---------------------+\n"
     ]
    }
   ],
   "source": [
    "!mysql sakila -e \"select *from store\""
   ]
  },
  {
   "cell_type": "markdown",
   "id": "adopted-smile",
   "metadata": {},
   "source": [
    "## Queries"
   ]
  },
  {
   "cell_type": "code",
   "execution_count": 50,
   "id": "thick-steering",
   "metadata": {},
   "outputs": [
    {
     "name": "stdout",
     "output_type": "stream",
     "text": [
      "+----------+------------+-------------+---------------------+\n",
      "| actor_id | first_name | last_name   | last_update         |\n",
      "+----------+------------+-------------+---------------------+\n",
      "|       76 | ANGELINA   | ASTAIRE     | 2006-02-15 04:34:33 |\n",
      "|      190 | AUDREY     | BAILEY      | 2006-02-15 04:34:33 |\n",
      "|       49 | ANNE       | CRONYN      | 2006-02-15 04:34:33 |\n",
      "|      173 | ALAN       | DREYFUSS    | 2006-02-15 04:34:33 |\n",
      "|      165 | AL         | GARLAND     | 2006-02-15 04:34:33 |\n",
      "|       71 | ADAM       | GRANT       | 2006-02-15 04:34:33 |\n",
      "|      132 | ADAM       | HOPPER      | 2006-02-15 04:34:33 |\n",
      "|       65 | ANGELA     | HUDSON      | 2006-02-15 04:34:33 |\n",
      "|      146 | ALBERT     | JOHANSSON   | 2006-02-15 04:34:33 |\n",
      "|      125 | ALBERT     | NOLTE       | 2006-02-15 04:34:33 |\n",
      "|       34 | AUDREY     | OLIVIER     | 2006-02-15 04:34:33 |\n",
      "|       29 | ALEC       | WAYNE       | 2006-02-15 04:34:33 |\n",
      "|      144 | ANGELA     | WITHERSPOON | 2006-02-15 04:34:33 |\n",
      "+----------+------------+-------------+---------------------+\n"
     ]
    }
   ],
   "source": [
    "# Select actors whose name begins with the letter \"A\" and order by last name (alpha)\n",
    "!mysql sakila -e \"select * from actor where first_name like 'A%' order by last_name \""
   ]
  },
  {
   "cell_type": "code",
   "execution_count": 51,
   "id": "functional-isolation",
   "metadata": {},
   "outputs": [
    {
     "name": "stdout",
     "output_type": "stream",
     "text": [
      "+----------+------------+-----------+---------------------+\n",
      "| actor_id | first_name | last_name | last_update         |\n",
      "+----------+------------+-----------+---------------------+\n",
      "|      202 | ANNIE      | anand     | 2006-02-15 04:34:33 |\n",
      "+----------+------------+-----------+---------------------+\n"
     ]
    }
   ],
   "source": [
    "# Add in ANNIE anand as an entry into actor table with an id of 202 and the same time update as the other actors, then show the resulted add\n",
    "!mysql sakila -e \"insert into actor values(202,'ANNIE', 'anand','2006-02-15 04:34:33')\"\n",
    "!mysql sakila -e \"select * from actor where first_name like 'A%' order by last_name limit 1 \""
   ]
  },
  {
   "cell_type": "code",
   "execution_count": 52,
   "id": "awful-camping",
   "metadata": {},
   "outputs": [
    {
     "name": "stdout",
     "output_type": "stream",
     "text": [
      "+----------+------------+-----------+---------------------+\n",
      "| actor_id | first_name | last_name | last_update         |\n",
      "+----------+------------+-----------+---------------------+\n",
      "|      202 | ANNIE      | ANAND     | 2021-02-02 04:34:33 |\n",
      "+----------+------------+-----------+---------------------+\n"
     ]
    }
   ],
   "source": [
    "# Using update we can select an actor using the \"WHERE\" clause to find and update certian properties(columns),\n",
    "# of said actor \n",
    "!mysql sakila -e \"update actor set last_name= 'ANAND',last_update='2021-02-02 04:34:33' where actor_id=202\"\n",
    "!mysql sakila -e \"select * from actor where first_name like 'A%' order by last_name limit 1 \""
   ]
  },
  {
   "cell_type": "code",
   "execution_count": 53,
   "id": "following-detective",
   "metadata": {},
   "outputs": [
    {
     "name": "stdout",
     "output_type": "stream",
     "text": [
      "+----------+------------+-----------+---------------------+\n",
      "| actor_id | first_name | last_name | last_update         |\n",
      "+----------+------------+-----------+---------------------+\n",
      "|       76 | ANGELINA   | ASTAIRE   | 2006-02-15 04:34:33 |\n",
      "|      190 | AUDREY     | BAILEY    | 2006-02-15 04:34:33 |\n",
      "|       49 | ANNE       | CRONYN    | 2006-02-15 04:34:33 |\n",
      "|      173 | ALAN       | DREYFUSS  | 2006-02-15 04:34:33 |\n",
      "|      165 | AL         | GARLAND   | 2006-02-15 04:34:33 |\n",
      "|       71 | ADAM       | GRANT     | 2006-02-15 04:34:33 |\n",
      "|      132 | ADAM       | HOPPER    | 2006-02-15 04:34:33 |\n",
      "|       65 | ANGELA     | HUDSON    | 2006-02-15 04:34:33 |\n",
      "|      146 | ALBERT     | JOHANSSON | 2006-02-15 04:34:33 |\n",
      "|      125 | ALBERT     | NOLTE     | 2006-02-15 04:34:33 |\n",
      "+----------+------------+-----------+---------------------+\n"
     ]
    }
   ],
   "source": [
    "# using delete we can remove our new entry by using the primary key for this table(actor_id),\n",
    "#since every actor has a unique ID we use the \"WHERE\" clasue to locate and remove the actor of choice\n",
    "!mysql sakila -e \"DELETE FROM actor WHERE actor_id=202\"\n",
    "!mysql sakila -e \"select * from actor where first_name like 'A%' order by last_name limit 10 \""
   ]
  }
 ],
 "metadata": {
  "environment": {
   "name": "common-cpu.mnightly-2021-01-20-debian-10-test",
   "type": "gcloud",
   "uri": "gcr.io/deeplearning-platform-release/base-cpu:mnightly-2021-01-20-debian-10-test"
  },
  "kernelspec": {
   "display_name": "Python 3",
   "language": "python",
   "name": "python3"
  },
  "language_info": {
   "codemirror_mode": {
    "name": "ipython",
    "version": 3
   },
   "file_extension": ".py",
   "mimetype": "text/x-python",
   "name": "python",
   "nbconvert_exporter": "python",
   "pygments_lexer": "ipython3",
   "version": "3.7.9"
  }
 },
 "nbformat": 4,
 "nbformat_minor": 5
}
